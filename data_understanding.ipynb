{
  "nbformat": 4,
  "nbformat_minor": 0,
  "metadata": {
    "colab": {
      "provenance": []
    },
    "kernelspec": {
      "name": "python3",
      "display_name": "Python 3"
    },
    "language_info": {
      "name": "python"
    },
    "accelerator": "GPU",
    "gpuClass": "standard"
  },
  "cells": [
    {
      "cell_type": "markdown",
      "source": [
        "# Data Understanding"
      ],
      "metadata": {
        "id": "18Sw3FewP5M8"
      }
    },
    {
      "cell_type": "code",
      "source": [
        "!pip install cudf-cu11==22.12 rmm-cu11==22.12 --extra-index-url=https://pypi.ngc.nvidia.com --quiet\n",
        "!pip install cugraph-cu11==22.12 dask-cuda==22.12 dask-cudf-cu11==22.12  pylibcugraph-cu11==22.12 --extra-index-url=https://pypi.ngc.nvidia.com/ --quiet\n",
        "!pip install cuml-cu11==22.12 raft_dask_cu11==22.12 dask-cudf-cu11==22.12  pylibraft_cu11==22.12 ucx-py-cu11==0.29.0 --extra-index-url=https://pypi.ngc.nvidia.com --quiet\n"
      ],
      "metadata": {
        "id": "4DUwqVlIRZk1"
      },
      "execution_count": null,
      "outputs": []
    },
    {
      "cell_type": "markdown",
      "source": [
        "Si mirano a calcolare le seguenti statistiche:\n",
        "\n",
        "-valori di event_type\n",
        "-numero di item\n",
        "-numero di brand\n",
        "-numero di categorie"
      ],
      "metadata": {
        "id": "kPXEvSo-Qw2d"
      }
    },
    {
      "cell_type": "code",
      "source": [
        "import cudf\n",
        "\n",
        "df = cudf.read_parquet(\"/content/drive/MyDrive/dataset_rees46/2019-Oct.parquet\")  \n",
        "df.head(10)"
      ],
      "metadata": {
        "colab": {
          "base_uri": "https://localhost:8080/",
          "height": 372
        },
        "id": "4pcVbtqDQ9ZC",
        "outputId": "1d5ccde2-5844-42fd-c886-70247a6bca5a"
      },
      "execution_count": null,
      "outputs": [
        {
          "output_type": "execute_result",
          "data": {
            "text/plain": [
              "   user_session event_type  product_id          category_id  \\\n",
              "0           152       view     1801539  2053013554415534427   \n",
              "1           152       view     1801826  2053013554415534427   \n",
              "2           152       view     1801539  2053013554415534427   \n",
              "3           152       view     1801881  2053013554415534427   \n",
              "4           152       view     1801539  2053013554415534427   \n",
              "5           152       view     1801400  2053013554415534427   \n",
              "6           152       view     1801539  2053013554415534427   \n",
              "7           152       view     1801693  2053013554415534427   \n",
              "8           152       view     1801539  2053013554415534427   \n",
              "9           152       view     1801693  2053013554415534427   \n",
              "\n",
              "          category_code    brand   price    user_id  event_time_ts  \\\n",
              "0  electronics.video.tv       lg  419.24  514971132     1570986064   \n",
              "1  electronics.video.tv  toshiba  359.60  514971132     1570986081   \n",
              "2  electronics.video.tv       lg  419.24  514971132     1570986090   \n",
              "3  electronics.video.tv  samsung  496.40  514971132     1570986093   \n",
              "4  electronics.video.tv       lg  419.24  514971132     1570986100   \n",
              "5  electronics.video.tv    haier  437.33  514971132     1570986102   \n",
              "6  electronics.video.tv       lg  419.24  514971132     1570986104   \n",
              "7  electronics.video.tv  hisense  452.78  514971132     1570986110   \n",
              "8  electronics.video.tv       lg  419.24  514971132     1570986115   \n",
              "9  electronics.video.tv  hisense  452.78  514971132     1570986115   \n",
              "\n",
              "   prod_first_event_time_ts  \n",
              "0                1569898645  \n",
              "1                1569898007  \n",
              "2                1569898645  \n",
              "3                1569894423  \n",
              "4                1569898645  \n",
              "5                1569898200  \n",
              "6                1569898645  \n",
              "7                1569902404  \n",
              "8                1569898645  \n",
              "9                1569902404  "
            ],
            "text/html": [
              "<div>\n",
              "<style scoped>\n",
              "    .dataframe tbody tr th:only-of-type {\n",
              "        vertical-align: middle;\n",
              "    }\n",
              "\n",
              "    .dataframe tbody tr th {\n",
              "        vertical-align: top;\n",
              "    }\n",
              "\n",
              "    .dataframe thead th {\n",
              "        text-align: right;\n",
              "    }\n",
              "</style>\n",
              "<table border=\"1\" class=\"dataframe\">\n",
              "  <thead>\n",
              "    <tr style=\"text-align: right;\">\n",
              "      <th></th>\n",
              "      <th>user_session</th>\n",
              "      <th>event_type</th>\n",
              "      <th>product_id</th>\n",
              "      <th>category_id</th>\n",
              "      <th>category_code</th>\n",
              "      <th>brand</th>\n",
              "      <th>price</th>\n",
              "      <th>user_id</th>\n",
              "      <th>event_time_ts</th>\n",
              "      <th>prod_first_event_time_ts</th>\n",
              "    </tr>\n",
              "  </thead>\n",
              "  <tbody>\n",
              "    <tr>\n",
              "      <th>0</th>\n",
              "      <td>152</td>\n",
              "      <td>view</td>\n",
              "      <td>1801539</td>\n",
              "      <td>2053013554415534427</td>\n",
              "      <td>electronics.video.tv</td>\n",
              "      <td>lg</td>\n",
              "      <td>419.24</td>\n",
              "      <td>514971132</td>\n",
              "      <td>1570986064</td>\n",
              "      <td>1569898645</td>\n",
              "    </tr>\n",
              "    <tr>\n",
              "      <th>1</th>\n",
              "      <td>152</td>\n",
              "      <td>view</td>\n",
              "      <td>1801826</td>\n",
              "      <td>2053013554415534427</td>\n",
              "      <td>electronics.video.tv</td>\n",
              "      <td>toshiba</td>\n",
              "      <td>359.60</td>\n",
              "      <td>514971132</td>\n",
              "      <td>1570986081</td>\n",
              "      <td>1569898007</td>\n",
              "    </tr>\n",
              "    <tr>\n",
              "      <th>2</th>\n",
              "      <td>152</td>\n",
              "      <td>view</td>\n",
              "      <td>1801539</td>\n",
              "      <td>2053013554415534427</td>\n",
              "      <td>electronics.video.tv</td>\n",
              "      <td>lg</td>\n",
              "      <td>419.24</td>\n",
              "      <td>514971132</td>\n",
              "      <td>1570986090</td>\n",
              "      <td>1569898645</td>\n",
              "    </tr>\n",
              "    <tr>\n",
              "      <th>3</th>\n",
              "      <td>152</td>\n",
              "      <td>view</td>\n",
              "      <td>1801881</td>\n",
              "      <td>2053013554415534427</td>\n",
              "      <td>electronics.video.tv</td>\n",
              "      <td>samsung</td>\n",
              "      <td>496.40</td>\n",
              "      <td>514971132</td>\n",
              "      <td>1570986093</td>\n",
              "      <td>1569894423</td>\n",
              "    </tr>\n",
              "    <tr>\n",
              "      <th>4</th>\n",
              "      <td>152</td>\n",
              "      <td>view</td>\n",
              "      <td>1801539</td>\n",
              "      <td>2053013554415534427</td>\n",
              "      <td>electronics.video.tv</td>\n",
              "      <td>lg</td>\n",
              "      <td>419.24</td>\n",
              "      <td>514971132</td>\n",
              "      <td>1570986100</td>\n",
              "      <td>1569898645</td>\n",
              "    </tr>\n",
              "    <tr>\n",
              "      <th>5</th>\n",
              "      <td>152</td>\n",
              "      <td>view</td>\n",
              "      <td>1801400</td>\n",
              "      <td>2053013554415534427</td>\n",
              "      <td>electronics.video.tv</td>\n",
              "      <td>haier</td>\n",
              "      <td>437.33</td>\n",
              "      <td>514971132</td>\n",
              "      <td>1570986102</td>\n",
              "      <td>1569898200</td>\n",
              "    </tr>\n",
              "    <tr>\n",
              "      <th>6</th>\n",
              "      <td>152</td>\n",
              "      <td>view</td>\n",
              "      <td>1801539</td>\n",
              "      <td>2053013554415534427</td>\n",
              "      <td>electronics.video.tv</td>\n",
              "      <td>lg</td>\n",
              "      <td>419.24</td>\n",
              "      <td>514971132</td>\n",
              "      <td>1570986104</td>\n",
              "      <td>1569898645</td>\n",
              "    </tr>\n",
              "    <tr>\n",
              "      <th>7</th>\n",
              "      <td>152</td>\n",
              "      <td>view</td>\n",
              "      <td>1801693</td>\n",
              "      <td>2053013554415534427</td>\n",
              "      <td>electronics.video.tv</td>\n",
              "      <td>hisense</td>\n",
              "      <td>452.78</td>\n",
              "      <td>514971132</td>\n",
              "      <td>1570986110</td>\n",
              "      <td>1569902404</td>\n",
              "    </tr>\n",
              "    <tr>\n",
              "      <th>8</th>\n",
              "      <td>152</td>\n",
              "      <td>view</td>\n",
              "      <td>1801539</td>\n",
              "      <td>2053013554415534427</td>\n",
              "      <td>electronics.video.tv</td>\n",
              "      <td>lg</td>\n",
              "      <td>419.24</td>\n",
              "      <td>514971132</td>\n",
              "      <td>1570986115</td>\n",
              "      <td>1569898645</td>\n",
              "    </tr>\n",
              "    <tr>\n",
              "      <th>9</th>\n",
              "      <td>152</td>\n",
              "      <td>view</td>\n",
              "      <td>1801693</td>\n",
              "      <td>2053013554415534427</td>\n",
              "      <td>electronics.video.tv</td>\n",
              "      <td>hisense</td>\n",
              "      <td>452.78</td>\n",
              "      <td>514971132</td>\n",
              "      <td>1570986115</td>\n",
              "      <td>1569902404</td>\n",
              "    </tr>\n",
              "  </tbody>\n",
              "</table>\n",
              "</div>"
            ]
          },
          "metadata": {},
          "execution_count": 4
        }
      ]
    },
    {
      "cell_type": "code",
      "source": [
        "print('# of session unique id: ', str(df[['user_session']].nunique()[-1]))"
      ],
      "metadata": {
        "colab": {
          "base_uri": "https://localhost:8080/"
        },
        "id": "QNWIHiIFwudP",
        "outputId": "250be24f-eaa4-445c-9067-621678c1bb2e"
      },
      "execution_count": null,
      "outputs": [
        {
          "output_type": "stream",
          "name": "stdout",
          "text": [
            "# of session unique id:  9244421\n"
          ]
        }
      ]
    },
    {
      "cell_type": "code",
      "source": [
        "print('# of items unique id: ', str(df[['product_id']].nunique()[-1]))"
      ],
      "metadata": {
        "colab": {
          "base_uri": "https://localhost:8080/"
        },
        "id": "HiXvWBqsRp-w",
        "outputId": "66b608b6-78c1-431e-882a-31b788aba4f4"
      },
      "execution_count": null,
      "outputs": [
        {
          "output_type": "stream",
          "name": "stdout",
          "text": [
            "# of items unique id:  166794\n"
          ]
        }
      ]
    },
    {
      "cell_type": "code",
      "source": [
        "print('# of category unique id: ', str(df[['category_id']].nunique()[-1]))"
      ],
      "metadata": {
        "colab": {
          "base_uri": "https://localhost:8080/"
        },
        "id": "hWw5q0K6R4eY",
        "outputId": "b1449eb8-32b9-4b41-8d7d-e24a3dbe29e8"
      },
      "execution_count": null,
      "outputs": [
        {
          "output_type": "stream",
          "name": "stdout",
          "text": [
            "# of category unique id:  624\n"
          ]
        }
      ]
    },
    {
      "cell_type": "code",
      "source": [
        "print('# of brand unique id: ', str(df[['brand']].nunique()[-1]))"
      ],
      "metadata": {
        "colab": {
          "base_uri": "https://localhost:8080/"
        },
        "id": "4f3pR90YSzmT",
        "outputId": "06bd7d59-44e2-4a32-faa7-53270f7a2866"
      },
      "execution_count": null,
      "outputs": [
        {
          "output_type": "stream",
          "name": "stdout",
          "text": [
            "# of brand unique id:  3444\n"
          ]
        }
      ]
    },
    {
      "cell_type": "code",
      "source": [
        "print('# of user unique id: ', str(df[['user_id']].nunique()[-1]))"
      ],
      "metadata": {
        "colab": {
          "base_uri": "https://localhost:8080/"
        },
        "id": "P8BmWCT7S3ul",
        "outputId": "697affe9-11d5-44ad-f9f9-41dc34a66c2a"
      },
      "execution_count": null,
      "outputs": [
        {
          "output_type": "stream",
          "name": "stdout",
          "text": [
            "# of brand unique id:  3022270\n"
          ]
        }
      ]
    },
    {
      "cell_type": "code",
      "source": [
        "print(df[['event_type']].value_counts())"
      ],
      "metadata": {
        "colab": {
          "base_uri": "https://localhost:8080/"
        },
        "id": "ggNL_DR2S_A4",
        "outputId": "70e6d8af-e78c-47c7-877c-3411bab32128"
      },
      "execution_count": null,
      "outputs": [
        {
          "output_type": "stream",
          "name": "stdout",
          "text": [
            "event_type\n",
            "view          30726719\n",
            "cart              4758\n",
            "purchase          1824\n",
            "dtype: int64\n"
          ]
        }
      ]
    },
    {
      "cell_type": "code",
      "source": [
        "df_sessions = cudf.read_parquet('/content/drive/MyDrive/dataset_rees46/sessions_by_day/1/train.parquet')\n",
        "df_sessions.head()"
      ],
      "metadata": {
        "colab": {
          "base_uri": "https://localhost:8080/",
          "height": 583
        },
        "id": "uHCIUzUhTIFy",
        "outputId": "e13e0d56-27fa-4b73-a88b-c5ea7d02bb8e"
      },
      "execution_count": null,
      "outputs": [
        {
          "output_type": "execute_result",
          "data": {
            "text/plain": [
              "   user_session  product_id-count  \\\n",
              "0             3               779   \n",
              "1            23               231   \n",
              "2            29               202   \n",
              "4            58               172   \n",
              "5            78               159   \n",
              "\n",
              "                                 product_id-list_seq  \\\n",
              "0  [26848, 111412, 31916, 10389, 28422, 671, 898,...   \n",
              "1  [691, 765, 1387, 1035, 2825, 1946, 1714, 8187,...   \n",
              "2  [1524, 2494, 34455, 15217, 21711, 46778, 32400...   \n",
              "4  [2733, 12150, 2573, 5107, 4563, 3609, 1703, 53...   \n",
              "5  [2321, 4769, 7015, 15535, 4769, 11909, 4769, 3...   \n",
              "\n",
              "                              category_code-list_seq  \\\n",
              "0  [1, 1, 1, 1, 1, 16, 16, 16, 16, 16, 16, 16, 16...   \n",
              "1  [1, 1, 1, 1, 1, 1, 13, 1, 1, 1, 1, 1, 1, 1, 1,...   \n",
              "2  [3, 3, 22, 22, 22, 22, 22, 22, 1, 1, 1, 1, 1, ...   \n",
              "4  [1, 1, 41, 41, 41, 41, 41, 41, 41, 41, 41, 41,...   \n",
              "5  [1, 1, 1, 1, 1, 1, 1, 1, 1, 1, 1, 1, 1, 1, 1, ...   \n",
              "\n",
              "                                      brand-list_seq  \\\n",
              "0  [190, 111, 275, 290, 536, 31, 10, 31, 416, 185...   \n",
              "1  [1, 348, 439, 142, 206, 206, 28, 28, 23, 142, ...   \n",
              "2  [19, 466, 964, 13, 13, 79, 964, 37, 76, 76, 6,...   \n",
              "4  [248, 1, 56, 2, 18, 7, 71, 26, 7, 71, 71, 1, 7...   \n",
              "5  [1, 6, 1, 179, 6, 1, 6, 1, 1, 1, 1, 1, 1, 48, ...   \n",
              "\n",
              "                                category_id-list_seq  \\\n",
              "0  [3, 3, 3, 3, 3, 20, 20, 20, 20, 20, 20, 20, 20...   \n",
              "1  [64, 64, 64, 64, 64, 64, 216, 233, 125, 64, 57...   \n",
              "2  [12, 12, 72, 72, 72, 72, 72, 72, 426, 426, 7, ...   \n",
              "4  [77, 77, 63, 63, 63, 63, 63, 63, 63, 63, 63, 6...   \n",
              "5  [7, 7, 7, 7, 7, 7, 7, 7, 7, 7, 7, 7, 7, 7, 7, ...   \n",
              "\n",
              "                           et_dayofweek_sin-list_seq  \\\n",
              "0  [0.9749277124471076, 0.9749277124471076, 0.974...   \n",
              "1  [0.9749277124471076, 0.9749277124471076, 0.974...   \n",
              "2  [0.9749277124471076, 0.9749277124471076, 0.974...   \n",
              "4  [0.9749277124471076, 0.9749277124471076, 0.974...   \n",
              "5  [0.9749277124471076, 0.9749277124471076, 0.974...   \n",
              "\n",
              "                           et_dayofweek_cos-list_seq  \\\n",
              "0  [-0.2225218090494724, -0.2225218090494724, -0....   \n",
              "1  [-0.2225218090494724, -0.2225218090494724, -0....   \n",
              "2  [-0.2225218090494724, -0.2225218090494724, -0....   \n",
              "4  [-0.2225218090494724, -0.2225218090494724, -0....   \n",
              "5  [-0.2225218090494724, -0.2225218090494724, -0....   \n",
              "\n",
              "                             price_log_norm-list_seq  \\\n",
              "0  [-0.5968732, -0.5826312, -0.57691675, -0.94772...   \n",
              "1  [-0.20457584, -0.31866515, -0.4049947, 0.28767...   \n",
              "2  [-0.5331212, -0.08574047, 0.46054456, -0.64450...   \n",
              "4  [-1.1461918, -0.9525935, 0.3498218, 0.54671, -...   \n",
              "5  [0.3290288, 0.2481804, 0.5238197, -0.35425237,...   \n",
              "\n",
              "             relative_price_to_avg_categ_id-list_seq  \\\n",
              "0  [0.044438490038896716, 0.06332365917531949, 0....   \n",
              "1  [-0.35150568828714485, -0.4378521261514929, -0...   \n",
              "2  [-0.7266183979654094, -0.5210653733326213, 2.0...   \n",
              "4  [-0.19495261458628507, 0.029849556116704375, -...   \n",
              "5  [-0.07102936944315118, -0.16009914492562116, 0...   \n",
              "\n",
              "              product_recency_days_log_norm-list_seq  \n",
              "0  [-3.1486514, -3.1486514, -3.148419, -3.1486514...  \n",
              "1  [-2.799691, -2.793504, -2.7960827, -2.7966762,...  \n",
              "2  [-2.4669812, -2.4828043, -2.4528584, -2.508910...  \n",
              "4  [-2.5808468, -2.5810318, -2.575665, -2.5611942...  \n",
              "5  [-2.495063, -2.488295, -2.4708674, -2.5522509,...  "
            ],
            "text/html": [
              "<div>\n",
              "<style scoped>\n",
              "    .dataframe tbody tr th:only-of-type {\n",
              "        vertical-align: middle;\n",
              "    }\n",
              "\n",
              "    .dataframe tbody tr th {\n",
              "        vertical-align: top;\n",
              "    }\n",
              "\n",
              "    .dataframe thead th {\n",
              "        text-align: right;\n",
              "    }\n",
              "</style>\n",
              "<table border=\"1\" class=\"dataframe\">\n",
              "  <thead>\n",
              "    <tr style=\"text-align: right;\">\n",
              "      <th></th>\n",
              "      <th>user_session</th>\n",
              "      <th>product_id-count</th>\n",
              "      <th>product_id-list_seq</th>\n",
              "      <th>category_code-list_seq</th>\n",
              "      <th>brand-list_seq</th>\n",
              "      <th>category_id-list_seq</th>\n",
              "      <th>et_dayofweek_sin-list_seq</th>\n",
              "      <th>et_dayofweek_cos-list_seq</th>\n",
              "      <th>price_log_norm-list_seq</th>\n",
              "      <th>relative_price_to_avg_categ_id-list_seq</th>\n",
              "      <th>product_recency_days_log_norm-list_seq</th>\n",
              "    </tr>\n",
              "  </thead>\n",
              "  <tbody>\n",
              "    <tr>\n",
              "      <th>0</th>\n",
              "      <td>3</td>\n",
              "      <td>779</td>\n",
              "      <td>[26848, 111412, 31916, 10389, 28422, 671, 898,...</td>\n",
              "      <td>[1, 1, 1, 1, 1, 16, 16, 16, 16, 16, 16, 16, 16...</td>\n",
              "      <td>[190, 111, 275, 290, 536, 31, 10, 31, 416, 185...</td>\n",
              "      <td>[3, 3, 3, 3, 3, 20, 20, 20, 20, 20, 20, 20, 20...</td>\n",
              "      <td>[0.9749277124471076, 0.9749277124471076, 0.974...</td>\n",
              "      <td>[-0.2225218090494724, -0.2225218090494724, -0....</td>\n",
              "      <td>[-0.5968732, -0.5826312, -0.57691675, -0.94772...</td>\n",
              "      <td>[0.044438490038896716, 0.06332365917531949, 0....</td>\n",
              "      <td>[-3.1486514, -3.1486514, -3.148419, -3.1486514...</td>\n",
              "    </tr>\n",
              "    <tr>\n",
              "      <th>1</th>\n",
              "      <td>23</td>\n",
              "      <td>231</td>\n",
              "      <td>[691, 765, 1387, 1035, 2825, 1946, 1714, 8187,...</td>\n",
              "      <td>[1, 1, 1, 1, 1, 1, 13, 1, 1, 1, 1, 1, 1, 1, 1,...</td>\n",
              "      <td>[1, 348, 439, 142, 206, 206, 28, 28, 23, 142, ...</td>\n",
              "      <td>[64, 64, 64, 64, 64, 64, 216, 233, 125, 64, 57...</td>\n",
              "      <td>[0.9749277124471076, 0.9749277124471076, 0.974...</td>\n",
              "      <td>[-0.2225218090494724, -0.2225218090494724, -0....</td>\n",
              "      <td>[-0.20457584, -0.31866515, -0.4049947, 0.28767...</td>\n",
              "      <td>[-0.35150568828714485, -0.4378521261514929, -0...</td>\n",
              "      <td>[-2.799691, -2.793504, -2.7960827, -2.7966762,...</td>\n",
              "    </tr>\n",
              "    <tr>\n",
              "      <th>2</th>\n",
              "      <td>29</td>\n",
              "      <td>202</td>\n",
              "      <td>[1524, 2494, 34455, 15217, 21711, 46778, 32400...</td>\n",
              "      <td>[3, 3, 22, 22, 22, 22, 22, 22, 1, 1, 1, 1, 1, ...</td>\n",
              "      <td>[19, 466, 964, 13, 13, 79, 964, 37, 76, 76, 6,...</td>\n",
              "      <td>[12, 12, 72, 72, 72, 72, 72, 72, 426, 426, 7, ...</td>\n",
              "      <td>[0.9749277124471076, 0.9749277124471076, 0.974...</td>\n",
              "      <td>[-0.2225218090494724, -0.2225218090494724, -0....</td>\n",
              "      <td>[-0.5331212, -0.08574047, 0.46054456, -0.64450...</td>\n",
              "      <td>[-0.7266183979654094, -0.5210653733326213, 2.0...</td>\n",
              "      <td>[-2.4669812, -2.4828043, -2.4528584, -2.508910...</td>\n",
              "    </tr>\n",
              "    <tr>\n",
              "      <th>4</th>\n",
              "      <td>58</td>\n",
              "      <td>172</td>\n",
              "      <td>[2733, 12150, 2573, 5107, 4563, 3609, 1703, 53...</td>\n",
              "      <td>[1, 1, 41, 41, 41, 41, 41, 41, 41, 41, 41, 41,...</td>\n",
              "      <td>[248, 1, 56, 2, 18, 7, 71, 26, 7, 71, 71, 1, 7...</td>\n",
              "      <td>[77, 77, 63, 63, 63, 63, 63, 63, 63, 63, 63, 6...</td>\n",
              "      <td>[0.9749277124471076, 0.9749277124471076, 0.974...</td>\n",
              "      <td>[-0.2225218090494724, -0.2225218090494724, -0....</td>\n",
              "      <td>[-1.1461918, -0.9525935, 0.3498218, 0.54671, -...</td>\n",
              "      <td>[-0.19495261458628507, 0.029849556116704375, -...</td>\n",
              "      <td>[-2.5808468, -2.5810318, -2.575665, -2.5611942...</td>\n",
              "    </tr>\n",
              "    <tr>\n",
              "      <th>5</th>\n",
              "      <td>78</td>\n",
              "      <td>159</td>\n",
              "      <td>[2321, 4769, 7015, 15535, 4769, 11909, 4769, 3...</td>\n",
              "      <td>[1, 1, 1, 1, 1, 1, 1, 1, 1, 1, 1, 1, 1, 1, 1, ...</td>\n",
              "      <td>[1, 6, 1, 179, 6, 1, 6, 1, 1, 1, 1, 1, 1, 48, ...</td>\n",
              "      <td>[7, 7, 7, 7, 7, 7, 7, 7, 7, 7, 7, 7, 7, 7, 7, ...</td>\n",
              "      <td>[0.9749277124471076, 0.9749277124471076, 0.974...</td>\n",
              "      <td>[-0.2225218090494724, -0.2225218090494724, -0....</td>\n",
              "      <td>[0.3290288, 0.2481804, 0.5238197, -0.35425237,...</td>\n",
              "      <td>[-0.07102936944315118, -0.16009914492562116, 0...</td>\n",
              "      <td>[-2.495063, -2.488295, -2.4708674, -2.5522509,...</td>\n",
              "    </tr>\n",
              "  </tbody>\n",
              "</table>\n",
              "</div>"
            ]
          },
          "metadata": {},
          "execution_count": 25
        }
      ]
    },
    {
      "cell_type": "code",
      "source": [],
      "metadata": {
        "id": "7-eNAHLaUZ4G"
      },
      "execution_count": null,
      "outputs": []
    }
  ]
}