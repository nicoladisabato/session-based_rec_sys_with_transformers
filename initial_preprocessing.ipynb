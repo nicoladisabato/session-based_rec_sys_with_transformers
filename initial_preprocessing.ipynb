{
  "nbformat": 4,
  "nbformat_minor": 0,
  "metadata": {
    "colab": {
      "provenance": []
    },
    "kernelspec": {
      "name": "python3",
      "display_name": "Python 3"
    },
    "language_info": {
      "name": "python"
    },
    "accelerator": "GPU",
    "gpuClass": "premium"
  },
  "cells": [
    {
      "cell_type": "markdown",
      "source": [
        "# Transformers4Rec: preprocessing "
      ],
      "metadata": {
        "id": "hgIb9v31tXLi"
      }
    },
    {
      "cell_type": "markdown",
      "source": [
        "## Installazione della libreria Cudf e Transformers4Rec"
      ],
      "metadata": {
        "id": "_Gnm-PdLtyB4"
      }
    },
    {
      "cell_type": "code",
      "execution_count": null,
      "metadata": {
        "id": "8JvII5GTLquT",
        "colab": {
          "base_uri": "https://localhost:8080/"
        },
        "outputId": "3ee6d9ab-bc15-4173-bfb9-375f93d55c44"
      },
      "outputs": [
        {
          "output_type": "stream",
          "name": "stdout",
          "text": [
            "Python 3.8.10\n"
          ]
        }
      ],
      "source": [
        "!python --version"
      ]
    },
    {
      "cell_type": "code",
      "source": [
        "pip install -U pip"
      ],
      "metadata": {
        "id": "Qa_yrgSaLx9l"
      },
      "execution_count": null,
      "outputs": []
    },
    {
      "cell_type": "code",
      "source": [
        "!pip install cudf-cu11==22.12 dask-cudf-cu11==22.12 --extra-index-url=https://pypi.nvidia.com/.\n",
        "!rm -rf /usr/local/lib/python3.8/dist-packages/cupy*\n",
        "!pip install cuml-cu11 --extra-index-url=https://pypi.nvidia.com\n",
        "!pip install cugraph-cu11 --extra-index-url=https://pypi.nvidia.com"
      ],
      "metadata": {
        "id": "rx4Mt8fHm15K"
      },
      "execution_count": null,
      "outputs": []
    },
    {
      "cell_type": "code",
      "source": [
        "!pip install transformers4rec[pytorch,nvtabular]"
      ],
      "metadata": {
        "id": "QeM2cJ2qMaeO"
      },
      "execution_count": null,
      "outputs": []
    },
    {
      "cell_type": "markdown",
      "source": [
        "## Preprocessing\n",
        "\n",
        "\n"
      ],
      "metadata": {
        "id": "Wz4dnU4zjv9h"
      }
    },
    {
      "cell_type": "markdown",
      "source": [
        "In questa fase di preprocessing si andrà ad utilizzare un dataset eCommerce proveniente da REES46 Marketing Platform. Ogni evento è rappresentato come una associazione molti-a-molti tra prodotti e utenti.\n",
        "\n"
      ],
      "metadata": {
        "id": "QpDfvUn_kL_V"
      }
    },
    {
      "cell_type": "code",
      "source": [
        "import os\n",
        "import numpy as np \n",
        "import gc\n",
        "import shutil\n",
        "import glob\n",
        "\n",
        "import dask_cudf\n",
        "import cudf\n",
        "import nvtabular as nvt\n",
        "from merlin.dag import ColumnSelector\n",
        "from merlin.schema import Schema, Tags\n",
        "import pandas as pd \n",
        "from nvtabular.ops import Operator"
      ],
      "metadata": {
        "id": "XdVeOTMdOz3T"
      },
      "execution_count": null,
      "outputs": []
    },
    {
      "cell_type": "markdown",
      "source": [
        "Lettura del file .csv attraverso Cudf. "
      ],
      "metadata": {
        "id": "jqqNuoEhj4DN"
      }
    },
    {
      "cell_type": "code",
      "source": [
        "raw_df = cudf.read_csv(\"/content/drive/MyDrive/2019-Oct.csv\") \n",
        "raw_df.head()"
      ],
      "metadata": {
        "colab": {
          "base_uri": "https://localhost:8080/",
          "height": 204
        },
        "id": "hD0OUb4waMFs",
        "outputId": "9c36df3c-fe29-47c8-d73a-5594ff4649ee"
      },
      "execution_count": null,
      "outputs": [
        {
          "output_type": "execute_result",
          "data": {
            "text/plain": [
              "                event_time event_type  product_id          category_id  \\\n",
              "0  2019-10-01 00:00:00 UTC       view    44600062  2103807459595387724   \n",
              "1  2019-10-01 00:00:00 UTC       view     3900821  2053013552326770905   \n",
              "2  2019-10-01 00:00:01 UTC       view    17200506  2053013559792632471   \n",
              "3  2019-10-01 00:00:01 UTC       view     1307067  2053013558920217191   \n",
              "4  2019-10-01 00:00:04 UTC       view     1004237  2053013555631882655   \n",
              "\n",
              "                         category_code     brand    price    user_id  \\\n",
              "0                                 <NA>  shiseido    35.79  541312140   \n",
              "1  appliances.environment.water_heater      aqua    33.20  554748717   \n",
              "2           furniture.living_room.sofa      <NA>   543.10  519107250   \n",
              "3                   computers.notebook    lenovo   251.74  550050854   \n",
              "4               electronics.smartphone     apple  1081.98  535871217   \n",
              "\n",
              "                           user_session  \n",
              "0  72d76fde-8bb3-4e00-8c23-a032dfed738c  \n",
              "1  9333dfbd-b87a-4708-9857-6336556b0fcc  \n",
              "2  566511c2-e2e3-422b-b695-cf8e6e792ca8  \n",
              "3  7c90fc70-0e80-4590-96f3-13c02c18c713  \n",
              "4  c6bd7419-2748-4c56-95b4-8cec9ff8b80d  "
            ],
            "text/html": [
              "<div>\n",
              "<style scoped>\n",
              "    .dataframe tbody tr th:only-of-type {\n",
              "        vertical-align: middle;\n",
              "    }\n",
              "\n",
              "    .dataframe tbody tr th {\n",
              "        vertical-align: top;\n",
              "    }\n",
              "\n",
              "    .dataframe thead th {\n",
              "        text-align: right;\n",
              "    }\n",
              "</style>\n",
              "<table border=\"1\" class=\"dataframe\">\n",
              "  <thead>\n",
              "    <tr style=\"text-align: right;\">\n",
              "      <th></th>\n",
              "      <th>event_time</th>\n",
              "      <th>event_type</th>\n",
              "      <th>product_id</th>\n",
              "      <th>category_id</th>\n",
              "      <th>category_code</th>\n",
              "      <th>brand</th>\n",
              "      <th>price</th>\n",
              "      <th>user_id</th>\n",
              "      <th>user_session</th>\n",
              "    </tr>\n",
              "  </thead>\n",
              "  <tbody>\n",
              "    <tr>\n",
              "      <th>0</th>\n",
              "      <td>2019-10-01 00:00:00 UTC</td>\n",
              "      <td>view</td>\n",
              "      <td>44600062</td>\n",
              "      <td>2103807459595387724</td>\n",
              "      <td>&lt;NA&gt;</td>\n",
              "      <td>shiseido</td>\n",
              "      <td>35.79</td>\n",
              "      <td>541312140</td>\n",
              "      <td>72d76fde-8bb3-4e00-8c23-a032dfed738c</td>\n",
              "    </tr>\n",
              "    <tr>\n",
              "      <th>1</th>\n",
              "      <td>2019-10-01 00:00:00 UTC</td>\n",
              "      <td>view</td>\n",
              "      <td>3900821</td>\n",
              "      <td>2053013552326770905</td>\n",
              "      <td>appliances.environment.water_heater</td>\n",
              "      <td>aqua</td>\n",
              "      <td>33.20</td>\n",
              "      <td>554748717</td>\n",
              "      <td>9333dfbd-b87a-4708-9857-6336556b0fcc</td>\n",
              "    </tr>\n",
              "    <tr>\n",
              "      <th>2</th>\n",
              "      <td>2019-10-01 00:00:01 UTC</td>\n",
              "      <td>view</td>\n",
              "      <td>17200506</td>\n",
              "      <td>2053013559792632471</td>\n",
              "      <td>furniture.living_room.sofa</td>\n",
              "      <td>&lt;NA&gt;</td>\n",
              "      <td>543.10</td>\n",
              "      <td>519107250</td>\n",
              "      <td>566511c2-e2e3-422b-b695-cf8e6e792ca8</td>\n",
              "    </tr>\n",
              "    <tr>\n",
              "      <th>3</th>\n",
              "      <td>2019-10-01 00:00:01 UTC</td>\n",
              "      <td>view</td>\n",
              "      <td>1307067</td>\n",
              "      <td>2053013558920217191</td>\n",
              "      <td>computers.notebook</td>\n",
              "      <td>lenovo</td>\n",
              "      <td>251.74</td>\n",
              "      <td>550050854</td>\n",
              "      <td>7c90fc70-0e80-4590-96f3-13c02c18c713</td>\n",
              "    </tr>\n",
              "    <tr>\n",
              "      <th>4</th>\n",
              "      <td>2019-10-01 00:00:04 UTC</td>\n",
              "      <td>view</td>\n",
              "      <td>1004237</td>\n",
              "      <td>2053013555631882655</td>\n",
              "      <td>electronics.smartphone</td>\n",
              "      <td>apple</td>\n",
              "      <td>1081.98</td>\n",
              "      <td>535871217</td>\n",
              "      <td>c6bd7419-2748-4c56-95b4-8cec9ff8b80d</td>\n",
              "    </tr>\n",
              "  </tbody>\n",
              "</table>\n",
              "</div>"
            ]
          },
          "metadata": {},
          "execution_count": 2
        }
      ]
    },
    {
      "cell_type": "code",
      "source": [
        "#num of rows and cols\n",
        "raw_df.shape"
      ],
      "metadata": {
        "colab": {
          "base_uri": "https://localhost:8080/"
        },
        "id": "j_CpKDjzaxr5",
        "outputId": "eaadd2f1-1f07-42a5-c5ee-c56c2890da9f"
      },
      "execution_count": null,
      "outputs": [
        {
          "output_type": "execute_result",
          "data": {
            "text/plain": [
              "(42448764, 9)"
            ]
          },
          "metadata": {},
          "execution_count": 3
        }
      ]
    },
    {
      "cell_type": "code",
      "source": [
        "# Remove rows where `user_session` is null.\n",
        "raw_df = raw_df[raw_df['user_session'].isnull()==False]\n",
        "len(raw_df)"
      ],
      "metadata": {
        "colab": {
          "base_uri": "https://localhost:8080/"
        },
        "id": "dIuYQP2vbbTC",
        "outputId": "330aa3ce-65a6-4358-eff2-66df4657a72c"
      },
      "execution_count": null,
      "outputs": [
        {
          "output_type": "execute_result",
          "data": {
            "text/plain": [
              "42448762"
            ]
          },
          "metadata": {},
          "execution_count": 4
        }
      ]
    },
    {
      "cell_type": "markdown",
      "source": [
        "## Converting time stamp to datetime\n",
        "\n",
        "\n"
      ],
      "metadata": {
        "id": "a3qAn2BIbdZ-"
      }
    },
    {
      "cell_type": "code",
      "source": [
        "raw_df['event_time_dt'] = raw_df['event_time'].astype('datetime64[s]')\n",
        "raw_df['event_time_ts']= raw_df['event_time_dt'].astype('int')"
      ],
      "metadata": {
        "id": "M5ohhQSFeqnH"
      },
      "execution_count": null,
      "outputs": []
    },
    {
      "cell_type": "code",
      "source": [
        "raw_df = raw_df.drop(['event_time'],  axis=1)"
      ],
      "metadata": {
        "id": "hYu0nYc3cjMw"
      },
      "execution_count": null,
      "outputs": []
    },
    {
      "cell_type": "code",
      "source": [
        "raw_df.head(10)"
      ],
      "metadata": {
        "colab": {
          "base_uri": "https://localhost:8080/",
          "height": 359
        },
        "id": "JO7lasmJcaT4",
        "outputId": "745a826f-76f7-4cbb-cc91-b65c21a7a63e"
      },
      "execution_count": null,
      "outputs": [
        {
          "output_type": "execute_result",
          "data": {
            "text/plain": [
              "  event_type  product_id          category_id  \\\n",
              "0       view    44600062  2103807459595387724   \n",
              "1       view     3900821  2053013552326770905   \n",
              "2       view    17200506  2053013559792632471   \n",
              "3       view     1307067  2053013558920217191   \n",
              "4       view     1004237  2053013555631882655   \n",
              "5       view     1480613  2053013561092866779   \n",
              "6       view    17300353  2053013553853497655   \n",
              "7       view    31500053  2053013558031024687   \n",
              "8       view    28719074  2053013565480109009   \n",
              "9       view     1004545  2053013555631882655   \n",
              "\n",
              "                         category_code     brand    price    user_id  \\\n",
              "0                                 <NA>  shiseido    35.79  541312140   \n",
              "1  appliances.environment.water_heater      aqua    33.20  554748717   \n",
              "2           furniture.living_room.sofa      <NA>   543.10  519107250   \n",
              "3                   computers.notebook    lenovo   251.74  550050854   \n",
              "4               electronics.smartphone     apple  1081.98  535871217   \n",
              "5                    computers.desktop    pulser   908.62  512742880   \n",
              "6                                 <NA>     creed   380.96  555447699   \n",
              "7                                 <NA>  luminarc    41.16  550978835   \n",
              "8                   apparel.shoes.keds     baden   102.71  520571932   \n",
              "9               electronics.smartphone    huawei   566.01  537918940   \n",
              "\n",
              "                           user_session       event_time_dt  event_time_ts  \n",
              "0  72d76fde-8bb3-4e00-8c23-a032dfed738c 2019-10-01 00:00:00     1569888000  \n",
              "1  9333dfbd-b87a-4708-9857-6336556b0fcc 2019-10-01 00:00:00     1569888000  \n",
              "2  566511c2-e2e3-422b-b695-cf8e6e792ca8 2019-10-01 00:00:01     1569888001  \n",
              "3  7c90fc70-0e80-4590-96f3-13c02c18c713 2019-10-01 00:00:01     1569888001  \n",
              "4  c6bd7419-2748-4c56-95b4-8cec9ff8b80d 2019-10-01 00:00:04     1569888004  \n",
              "5  0d0d91c2-c9c2-4e81-90a5-86594dec0db9 2019-10-01 00:00:05     1569888005  \n",
              "6  4fe811e9-91de-46da-90c3-bbd87ed3a65d 2019-10-01 00:00:08     1569888008  \n",
              "7  6280d577-25c8-4147-99a7-abc6048498d6 2019-10-01 00:00:08     1569888008  \n",
              "8  ac1cd4e5-a3ce-4224-a2d7-ff660a105880 2019-10-01 00:00:10     1569888010  \n",
              "9  406c46ed-90a4-4787-a43b-59a410c1a5fb 2019-10-01 00:00:11     1569888011  "
            ],
            "text/html": [
              "<div>\n",
              "<style scoped>\n",
              "    .dataframe tbody tr th:only-of-type {\n",
              "        vertical-align: middle;\n",
              "    }\n",
              "\n",
              "    .dataframe tbody tr th {\n",
              "        vertical-align: top;\n",
              "    }\n",
              "\n",
              "    .dataframe thead th {\n",
              "        text-align: right;\n",
              "    }\n",
              "</style>\n",
              "<table border=\"1\" class=\"dataframe\">\n",
              "  <thead>\n",
              "    <tr style=\"text-align: right;\">\n",
              "      <th></th>\n",
              "      <th>event_type</th>\n",
              "      <th>product_id</th>\n",
              "      <th>category_id</th>\n",
              "      <th>category_code</th>\n",
              "      <th>brand</th>\n",
              "      <th>price</th>\n",
              "      <th>user_id</th>\n",
              "      <th>user_session</th>\n",
              "      <th>event_time_dt</th>\n",
              "      <th>event_time_ts</th>\n",
              "    </tr>\n",
              "  </thead>\n",
              "  <tbody>\n",
              "    <tr>\n",
              "      <th>0</th>\n",
              "      <td>view</td>\n",
              "      <td>44600062</td>\n",
              "      <td>2103807459595387724</td>\n",
              "      <td>&lt;NA&gt;</td>\n",
              "      <td>shiseido</td>\n",
              "      <td>35.79</td>\n",
              "      <td>541312140</td>\n",
              "      <td>72d76fde-8bb3-4e00-8c23-a032dfed738c</td>\n",
              "      <td>2019-10-01 00:00:00</td>\n",
              "      <td>1569888000</td>\n",
              "    </tr>\n",
              "    <tr>\n",
              "      <th>1</th>\n",
              "      <td>view</td>\n",
              "      <td>3900821</td>\n",
              "      <td>2053013552326770905</td>\n",
              "      <td>appliances.environment.water_heater</td>\n",
              "      <td>aqua</td>\n",
              "      <td>33.20</td>\n",
              "      <td>554748717</td>\n",
              "      <td>9333dfbd-b87a-4708-9857-6336556b0fcc</td>\n",
              "      <td>2019-10-01 00:00:00</td>\n",
              "      <td>1569888000</td>\n",
              "    </tr>\n",
              "    <tr>\n",
              "      <th>2</th>\n",
              "      <td>view</td>\n",
              "      <td>17200506</td>\n",
              "      <td>2053013559792632471</td>\n",
              "      <td>furniture.living_room.sofa</td>\n",
              "      <td>&lt;NA&gt;</td>\n",
              "      <td>543.10</td>\n",
              "      <td>519107250</td>\n",
              "      <td>566511c2-e2e3-422b-b695-cf8e6e792ca8</td>\n",
              "      <td>2019-10-01 00:00:01</td>\n",
              "      <td>1569888001</td>\n",
              "    </tr>\n",
              "    <tr>\n",
              "      <th>3</th>\n",
              "      <td>view</td>\n",
              "      <td>1307067</td>\n",
              "      <td>2053013558920217191</td>\n",
              "      <td>computers.notebook</td>\n",
              "      <td>lenovo</td>\n",
              "      <td>251.74</td>\n",
              "      <td>550050854</td>\n",
              "      <td>7c90fc70-0e80-4590-96f3-13c02c18c713</td>\n",
              "      <td>2019-10-01 00:00:01</td>\n",
              "      <td>1569888001</td>\n",
              "    </tr>\n",
              "    <tr>\n",
              "      <th>4</th>\n",
              "      <td>view</td>\n",
              "      <td>1004237</td>\n",
              "      <td>2053013555631882655</td>\n",
              "      <td>electronics.smartphone</td>\n",
              "      <td>apple</td>\n",
              "      <td>1081.98</td>\n",
              "      <td>535871217</td>\n",
              "      <td>c6bd7419-2748-4c56-95b4-8cec9ff8b80d</td>\n",
              "      <td>2019-10-01 00:00:04</td>\n",
              "      <td>1569888004</td>\n",
              "    </tr>\n",
              "    <tr>\n",
              "      <th>5</th>\n",
              "      <td>view</td>\n",
              "      <td>1480613</td>\n",
              "      <td>2053013561092866779</td>\n",
              "      <td>computers.desktop</td>\n",
              "      <td>pulser</td>\n",
              "      <td>908.62</td>\n",
              "      <td>512742880</td>\n",
              "      <td>0d0d91c2-c9c2-4e81-90a5-86594dec0db9</td>\n",
              "      <td>2019-10-01 00:00:05</td>\n",
              "      <td>1569888005</td>\n",
              "    </tr>\n",
              "    <tr>\n",
              "      <th>6</th>\n",
              "      <td>view</td>\n",
              "      <td>17300353</td>\n",
              "      <td>2053013553853497655</td>\n",
              "      <td>&lt;NA&gt;</td>\n",
              "      <td>creed</td>\n",
              "      <td>380.96</td>\n",
              "      <td>555447699</td>\n",
              "      <td>4fe811e9-91de-46da-90c3-bbd87ed3a65d</td>\n",
              "      <td>2019-10-01 00:00:08</td>\n",
              "      <td>1569888008</td>\n",
              "    </tr>\n",
              "    <tr>\n",
              "      <th>7</th>\n",
              "      <td>view</td>\n",
              "      <td>31500053</td>\n",
              "      <td>2053013558031024687</td>\n",
              "      <td>&lt;NA&gt;</td>\n",
              "      <td>luminarc</td>\n",
              "      <td>41.16</td>\n",
              "      <td>550978835</td>\n",
              "      <td>6280d577-25c8-4147-99a7-abc6048498d6</td>\n",
              "      <td>2019-10-01 00:00:08</td>\n",
              "      <td>1569888008</td>\n",
              "    </tr>\n",
              "    <tr>\n",
              "      <th>8</th>\n",
              "      <td>view</td>\n",
              "      <td>28719074</td>\n",
              "      <td>2053013565480109009</td>\n",
              "      <td>apparel.shoes.keds</td>\n",
              "      <td>baden</td>\n",
              "      <td>102.71</td>\n",
              "      <td>520571932</td>\n",
              "      <td>ac1cd4e5-a3ce-4224-a2d7-ff660a105880</td>\n",
              "      <td>2019-10-01 00:00:10</td>\n",
              "      <td>1569888010</td>\n",
              "    </tr>\n",
              "    <tr>\n",
              "      <th>9</th>\n",
              "      <td>view</td>\n",
              "      <td>1004545</td>\n",
              "      <td>2053013555631882655</td>\n",
              "      <td>electronics.smartphone</td>\n",
              "      <td>huawei</td>\n",
              "      <td>566.01</td>\n",
              "      <td>537918940</td>\n",
              "      <td>406c46ed-90a4-4787-a43b-59a410c1a5fb</td>\n",
              "      <td>2019-10-01 00:00:11</td>\n",
              "      <td>1569888011</td>\n",
              "    </tr>\n",
              "  </tbody>\n",
              "</table>\n",
              "</div>"
            ]
          },
          "metadata": {},
          "execution_count": 7
        }
      ]
    },
    {
      "cell_type": "code",
      "source": [
        "# check the min date\n",
        "raw_df['event_time_dt'].min()"
      ],
      "metadata": {
        "colab": {
          "base_uri": "https://localhost:8080/"
        },
        "id": "zKhZaeThe0pB",
        "outputId": "5fc2d2aa-7e86-4b0c-9fd2-da73a4e981b7"
      },
      "execution_count": null,
      "outputs": [
        {
          "output_type": "execute_result",
          "data": {
            "text/plain": [
              "numpy.datetime64('2019-10-01T00:00:00')"
            ]
          },
          "metadata": {},
          "execution_count": 8
        }
      ]
    },
    {
      "cell_type": "code",
      "source": [
        "raw_df['event_time_dt'].max()"
      ],
      "metadata": {
        "colab": {
          "base_uri": "https://localhost:8080/"
        },
        "id": "w8XWOUZQfSW3",
        "outputId": "50eca067-f65f-497b-9077-8e71e84d2584"
      },
      "execution_count": null,
      "outputs": [
        {
          "output_type": "execute_result",
          "data": {
            "text/plain": [
              "numpy.datetime64('2019-10-31T23:59:59')"
            ]
          },
          "metadata": {},
          "execution_count": 9
        }
      ]
    },
    {
      "cell_type": "markdown",
      "source": [
        "Al fine di poter evitare errori nella successiva fase di raggruppamento per sessione, si converte il campo user_session in int."
      ],
      "metadata": {
        "id": "64Jj_00wdWAr"
      }
    },
    {
      "cell_type": "code",
      "source": [
        "cols = list(raw_df.columns)\n",
        "cols.remove('user_session')\n",
        "cols"
      ],
      "metadata": {
        "colab": {
          "base_uri": "https://localhost:8080/"
        },
        "id": "yPvR-3wQcnNf",
        "outputId": "fab3192d-c6f9-4305-84b9-fc0f2deac987"
      },
      "execution_count": null,
      "outputs": [
        {
          "output_type": "execute_result",
          "data": {
            "text/plain": [
              "['event_type',\n",
              " 'product_id',\n",
              " 'category_id',\n",
              " 'category_code',\n",
              " 'brand',\n",
              " 'price',\n",
              " 'user_id',\n",
              " 'event_time_dt',\n",
              " 'event_time_ts']"
            ]
          },
          "metadata": {},
          "execution_count": 10
        }
      ]
    },
    {
      "cell_type": "markdown",
      "source": [
        "Si utilizza nello specifico l'operazione **Categorify** di NVTabular, necessaria per trasformare fetaures categoriche in valori interi unici.\n",
        "La classe workflow applica un grafo di operazioni sul dataset, utile per effettuare feature engineering e operazioni di preprocessing. Questa classe utilizza delle API simili a Transformers in sklearn, in quanto si utilizza *fit* sul dataset per calcolare le sue statistiche e successivamente si applica transform sul dataset applicando queste statistiche.\n",
        "\n"
      ],
      "metadata": {
        "id": "8vDgMlWim9-n"
      }
    },
    {
      "cell_type": "code",
      "source": [
        "\n",
        "#converting from dask_cudf to cudf\n",
        "#raw_df = raw_df.compute()\n",
        "\n",
        "df_event = nvt.Dataset(raw_df) \n",
        "\n",
        "# categorify user_session (transform to integer values)\n",
        "cat_feats = ['user_session'] >> nvt.ops.Categorify()\n"
      ],
      "metadata": {
        "id": "xgrZINpedixl"
      },
      "execution_count": null,
      "outputs": []
    },
    {
      "cell_type": "code",
      "source": [
        "# Initialize the workflow and execute it\n",
        "workflow = nvt.Workflow(cols + cat_feats)\n",
        "workflow.fit(df_event)\n",
        "df = workflow.transform(df_event).to_ddf().compute()"
      ],
      "metadata": {
        "id": "WrtAtxvLf0b7"
      },
      "execution_count": null,
      "outputs": []
    },
    {
      "cell_type": "code",
      "source": [
        "df.head(10)"
      ],
      "metadata": {
        "colab": {
          "base_uri": "https://localhost:8080/",
          "height": 359
        },
        "id": "CBkKlAFhlyM6",
        "outputId": "94a4d969-9679-463c-b48c-e95895e28bbc"
      },
      "execution_count": null,
      "outputs": [
        {
          "output_type": "execute_result",
          "data": {
            "text/plain": [
              "   user_session event_type  product_id          category_id  \\\n",
              "0       5126085       view    44600062  2103807459595387724   \n",
              "1       7854470       view     3900821  2053013552326770905   \n",
              "2        730655       view    17200506  2053013559792632471   \n",
              "3       1637332       view     1307067  2053013558920217191   \n",
              "4       4202155       view     1004237  2053013555631882655   \n",
              "5       1808164       view     1480613  2053013561092866779   \n",
              "6       6995770       view    17300353  2053013553853497655   \n",
              "7       3794756       view    31500053  2053013558031024687   \n",
              "8       5470852       view    28719074  2053013565480109009   \n",
              "9       2858777       view     1004545  2053013555631882655   \n",
              "\n",
              "                         category_code     brand    price    user_id  \\\n",
              "0                                 <NA>  shiseido    35.79  541312140   \n",
              "1  appliances.environment.water_heater      aqua    33.20  554748717   \n",
              "2           furniture.living_room.sofa      <NA>   543.10  519107250   \n",
              "3                   computers.notebook    lenovo   251.74  550050854   \n",
              "4               electronics.smartphone     apple  1081.98  535871217   \n",
              "5                    computers.desktop    pulser   908.62  512742880   \n",
              "6                                 <NA>     creed   380.96  555447699   \n",
              "7                                 <NA>  luminarc    41.16  550978835   \n",
              "8                   apparel.shoes.keds     baden   102.71  520571932   \n",
              "9               electronics.smartphone    huawei   566.01  537918940   \n",
              "\n",
              "        event_time_dt  event_time_ts  \n",
              "0 2019-10-01 00:00:00     1569888000  \n",
              "1 2019-10-01 00:00:00     1569888000  \n",
              "2 2019-10-01 00:00:01     1569888001  \n",
              "3 2019-10-01 00:00:01     1569888001  \n",
              "4 2019-10-01 00:00:04     1569888004  \n",
              "5 2019-10-01 00:00:05     1569888005  \n",
              "6 2019-10-01 00:00:08     1569888008  \n",
              "7 2019-10-01 00:00:08     1569888008  \n",
              "8 2019-10-01 00:00:10     1569888010  \n",
              "9 2019-10-01 00:00:11     1569888011  "
            ],
            "text/html": [
              "<div>\n",
              "<style scoped>\n",
              "    .dataframe tbody tr th:only-of-type {\n",
              "        vertical-align: middle;\n",
              "    }\n",
              "\n",
              "    .dataframe tbody tr th {\n",
              "        vertical-align: top;\n",
              "    }\n",
              "\n",
              "    .dataframe thead th {\n",
              "        text-align: right;\n",
              "    }\n",
              "</style>\n",
              "<table border=\"1\" class=\"dataframe\">\n",
              "  <thead>\n",
              "    <tr style=\"text-align: right;\">\n",
              "      <th></th>\n",
              "      <th>user_session</th>\n",
              "      <th>event_type</th>\n",
              "      <th>product_id</th>\n",
              "      <th>category_id</th>\n",
              "      <th>category_code</th>\n",
              "      <th>brand</th>\n",
              "      <th>price</th>\n",
              "      <th>user_id</th>\n",
              "      <th>event_time_dt</th>\n",
              "      <th>event_time_ts</th>\n",
              "    </tr>\n",
              "  </thead>\n",
              "  <tbody>\n",
              "    <tr>\n",
              "      <th>0</th>\n",
              "      <td>5126085</td>\n",
              "      <td>view</td>\n",
              "      <td>44600062</td>\n",
              "      <td>2103807459595387724</td>\n",
              "      <td>&lt;NA&gt;</td>\n",
              "      <td>shiseido</td>\n",
              "      <td>35.79</td>\n",
              "      <td>541312140</td>\n",
              "      <td>2019-10-01 00:00:00</td>\n",
              "      <td>1569888000</td>\n",
              "    </tr>\n",
              "    <tr>\n",
              "      <th>1</th>\n",
              "      <td>7854470</td>\n",
              "      <td>view</td>\n",
              "      <td>3900821</td>\n",
              "      <td>2053013552326770905</td>\n",
              "      <td>appliances.environment.water_heater</td>\n",
              "      <td>aqua</td>\n",
              "      <td>33.20</td>\n",
              "      <td>554748717</td>\n",
              "      <td>2019-10-01 00:00:00</td>\n",
              "      <td>1569888000</td>\n",
              "    </tr>\n",
              "    <tr>\n",
              "      <th>2</th>\n",
              "      <td>730655</td>\n",
              "      <td>view</td>\n",
              "      <td>17200506</td>\n",
              "      <td>2053013559792632471</td>\n",
              "      <td>furniture.living_room.sofa</td>\n",
              "      <td>&lt;NA&gt;</td>\n",
              "      <td>543.10</td>\n",
              "      <td>519107250</td>\n",
              "      <td>2019-10-01 00:00:01</td>\n",
              "      <td>1569888001</td>\n",
              "    </tr>\n",
              "    <tr>\n",
              "      <th>3</th>\n",
              "      <td>1637332</td>\n",
              "      <td>view</td>\n",
              "      <td>1307067</td>\n",
              "      <td>2053013558920217191</td>\n",
              "      <td>computers.notebook</td>\n",
              "      <td>lenovo</td>\n",
              "      <td>251.74</td>\n",
              "      <td>550050854</td>\n",
              "      <td>2019-10-01 00:00:01</td>\n",
              "      <td>1569888001</td>\n",
              "    </tr>\n",
              "    <tr>\n",
              "      <th>4</th>\n",
              "      <td>4202155</td>\n",
              "      <td>view</td>\n",
              "      <td>1004237</td>\n",
              "      <td>2053013555631882655</td>\n",
              "      <td>electronics.smartphone</td>\n",
              "      <td>apple</td>\n",
              "      <td>1081.98</td>\n",
              "      <td>535871217</td>\n",
              "      <td>2019-10-01 00:00:04</td>\n",
              "      <td>1569888004</td>\n",
              "    </tr>\n",
              "    <tr>\n",
              "      <th>5</th>\n",
              "      <td>1808164</td>\n",
              "      <td>view</td>\n",
              "      <td>1480613</td>\n",
              "      <td>2053013561092866779</td>\n",
              "      <td>computers.desktop</td>\n",
              "      <td>pulser</td>\n",
              "      <td>908.62</td>\n",
              "      <td>512742880</td>\n",
              "      <td>2019-10-01 00:00:05</td>\n",
              "      <td>1569888005</td>\n",
              "    </tr>\n",
              "    <tr>\n",
              "      <th>6</th>\n",
              "      <td>6995770</td>\n",
              "      <td>view</td>\n",
              "      <td>17300353</td>\n",
              "      <td>2053013553853497655</td>\n",
              "      <td>&lt;NA&gt;</td>\n",
              "      <td>creed</td>\n",
              "      <td>380.96</td>\n",
              "      <td>555447699</td>\n",
              "      <td>2019-10-01 00:00:08</td>\n",
              "      <td>1569888008</td>\n",
              "    </tr>\n",
              "    <tr>\n",
              "      <th>7</th>\n",
              "      <td>3794756</td>\n",
              "      <td>view</td>\n",
              "      <td>31500053</td>\n",
              "      <td>2053013558031024687</td>\n",
              "      <td>&lt;NA&gt;</td>\n",
              "      <td>luminarc</td>\n",
              "      <td>41.16</td>\n",
              "      <td>550978835</td>\n",
              "      <td>2019-10-01 00:00:08</td>\n",
              "      <td>1569888008</td>\n",
              "    </tr>\n",
              "    <tr>\n",
              "      <th>8</th>\n",
              "      <td>5470852</td>\n",
              "      <td>view</td>\n",
              "      <td>28719074</td>\n",
              "      <td>2053013565480109009</td>\n",
              "      <td>apparel.shoes.keds</td>\n",
              "      <td>baden</td>\n",
              "      <td>102.71</td>\n",
              "      <td>520571932</td>\n",
              "      <td>2019-10-01 00:00:10</td>\n",
              "      <td>1569888010</td>\n",
              "    </tr>\n",
              "    <tr>\n",
              "      <th>9</th>\n",
              "      <td>2858777</td>\n",
              "      <td>view</td>\n",
              "      <td>1004545</td>\n",
              "      <td>2053013555631882655</td>\n",
              "      <td>electronics.smartphone</td>\n",
              "      <td>huawei</td>\n",
              "      <td>566.01</td>\n",
              "      <td>537918940</td>\n",
              "      <td>2019-10-01 00:00:11</td>\n",
              "      <td>1569888011</td>\n",
              "    </tr>\n",
              "  </tbody>\n",
              "</table>\n",
              "</div>"
            ]
          },
          "metadata": {},
          "execution_count": 14
        }
      ]
    },
    {
      "cell_type": "code",
      "source": [
        "#deleting old df\n",
        "raw_df = None\n",
        "del(raw_df)\n",
        "gc.collect()\n"
      ],
      "metadata": {
        "colab": {
          "base_uri": "https://localhost:8080/"
        },
        "id": "T1jr3qAQo2k1",
        "outputId": "e6cba417-5f85-497c-a7fc-92045403127e"
      },
      "execution_count": null,
      "outputs": [
        {
          "output_type": "execute_result",
          "data": {
            "text/plain": [
              "69"
            ]
          },
          "metadata": {},
          "execution_count": 15
        }
      ]
    },
    {
      "cell_type": "code",
      "source": [
        "#sorting the df based on session and time\n",
        "df = df.sort_values(['user_session', 'event_time_ts']).reset_index(drop=True)\n"
      ],
      "metadata": {
        "id": "PgTJMSvgy72g"
      },
      "execution_count": null,
      "outputs": []
    },
    {
      "cell_type": "code",
      "source": [
        "df = df.drop(['event_time_dt'],  axis=1)"
      ],
      "metadata": {
        "id": "J88zXJ7bozi5"
      },
      "execution_count": null,
      "outputs": []
    },
    {
      "cell_type": "code",
      "source": [
        "type(df)"
      ],
      "metadata": {
        "colab": {
          "base_uri": "https://localhost:8080/"
        },
        "id": "tL61MZVZg6iN",
        "outputId": "2ce04320-87ea-4c8a-d7bf-e1905f2b2639"
      },
      "execution_count": null,
      "outputs": [
        {
          "output_type": "execute_result",
          "data": {
            "text/plain": [
              "cudf.core.dataframe.DataFrame"
            ]
          },
          "metadata": {},
          "execution_count": 18
        }
      ]
    },
    {
      "cell_type": "markdown",
      "source": [
        "## Rimozione delle interazioni consecutive\n"
      ],
      "metadata": {
        "id": "KJ4rYeLhrTQV"
      }
    },
    {
      "cell_type": "markdown",
      "source": [
        "Si eliminano le interazioni consecutive, avvenute probabilmente a causa dell'aggiornamento della scheda del browser o a diversi tipi di interazione (es. click, add-to-card, purchase)"
      ],
      "metadata": {
        "id": "89yNsLB9ppIA"
      }
    },
    {
      "cell_type": "code",
      "source": [
        "\n",
        "print(\"Count with in-session repeated interactions: {}\".format(len(df)))\n",
        "\n",
        "#creating column shifting the product and so creating the past event-product \n",
        "df['product_id_past'] = df['product_id'].shift(1).fillna(0)\n",
        "df['session_id_past'] = df['user_session'].shift(1).fillna(0)\n",
        "\n",
        "#Keeping only no consecutive repeated in session interactions\n",
        "df = df[~((df['user_session'] == df['session_id_past']) & \\\n",
        "             (df['product_id'] == df['product_id_past']))]\n",
        "print(\"Count after removed in-session repeated interactions: {}\".format(len(df)))\n",
        "del(df['product_id_past'])\n",
        "del(df['session_id_past'])\n",
        "\n",
        "gc.collect()\n",
        "df.head(10)\n"
      ],
      "metadata": {
        "colab": {
          "base_uri": "https://localhost:8080/",
          "height": 393
        },
        "id": "Az75d0HhqZpt",
        "outputId": "2ead4ca3-db2f-45ed-ea70-3a9cdf08aef0"
      },
      "execution_count": null,
      "outputs": [
        {
          "output_type": "stream",
          "name": "stdout",
          "text": [
            "Count with in-session repeated interactions: 42448762\n",
            "Count after removed in-session repeated interactions: 30733301\n"
          ]
        },
        {
          "output_type": "execute_result",
          "data": {
            "text/plain": [
              "    user_session event_type  product_id          category_id  \\\n",
              "0              1       view    12712529  2053013553559896355   \n",
              "1              1       view    12702204  2053013553559896355   \n",
              "2              1       view    12718922  2053013553559896355   \n",
              "4              1       view    12711730  2053013553559896355   \n",
              "5              1       view    12708497  2053013553559896355   \n",
              "6              1       view     5801483  2053013553945772349   \n",
              "8              1       view     5800140  2053013553945772349   \n",
              "10             1       view     5801322  2053013553945772349   \n",
              "12             1       view     5800827  2053013553945772349   \n",
              "14             1       view     5800380  2053013553945772349   \n",
              "\n",
              "                  category_code        brand   price    user_id  event_time_ts  \n",
              "0                          <NA>      hankook   70.79  513605798     1569900208  \n",
              "1                          <NA>  bridgestone   72.07  513605798     1569900523  \n",
              "2                          <NA>       dunlop   72.59  513605798     1569900702  \n",
              "4                          <NA>     goodride   45.45  513605798     1569902687  \n",
              "5                          <NA>        nitto   68.21  513605798     1569902730  \n",
              "6   electronics.audio.subwoofer      pioneer   58.43  513605798     1569903169  \n",
              "8   electronics.audio.subwoofer         sony   41.19  513605798     1569903199  \n",
              "10  electronics.audio.subwoofer      pioneer   90.09  513605798     1569903246  \n",
              "12  electronics.audio.subwoofer      mystery  172.46  513605798     1569903266  \n",
              "14  electronics.audio.subwoofer        hertz   62.65  513605798     1569903298  "
            ],
            "text/html": [
              "<div>\n",
              "<style scoped>\n",
              "    .dataframe tbody tr th:only-of-type {\n",
              "        vertical-align: middle;\n",
              "    }\n",
              "\n",
              "    .dataframe tbody tr th {\n",
              "        vertical-align: top;\n",
              "    }\n",
              "\n",
              "    .dataframe thead th {\n",
              "        text-align: right;\n",
              "    }\n",
              "</style>\n",
              "<table border=\"1\" class=\"dataframe\">\n",
              "  <thead>\n",
              "    <tr style=\"text-align: right;\">\n",
              "      <th></th>\n",
              "      <th>user_session</th>\n",
              "      <th>event_type</th>\n",
              "      <th>product_id</th>\n",
              "      <th>category_id</th>\n",
              "      <th>category_code</th>\n",
              "      <th>brand</th>\n",
              "      <th>price</th>\n",
              "      <th>user_id</th>\n",
              "      <th>event_time_ts</th>\n",
              "    </tr>\n",
              "  </thead>\n",
              "  <tbody>\n",
              "    <tr>\n",
              "      <th>0</th>\n",
              "      <td>1</td>\n",
              "      <td>view</td>\n",
              "      <td>12712529</td>\n",
              "      <td>2053013553559896355</td>\n",
              "      <td>&lt;NA&gt;</td>\n",
              "      <td>hankook</td>\n",
              "      <td>70.79</td>\n",
              "      <td>513605798</td>\n",
              "      <td>1569900208</td>\n",
              "    </tr>\n",
              "    <tr>\n",
              "      <th>1</th>\n",
              "      <td>1</td>\n",
              "      <td>view</td>\n",
              "      <td>12702204</td>\n",
              "      <td>2053013553559896355</td>\n",
              "      <td>&lt;NA&gt;</td>\n",
              "      <td>bridgestone</td>\n",
              "      <td>72.07</td>\n",
              "      <td>513605798</td>\n",
              "      <td>1569900523</td>\n",
              "    </tr>\n",
              "    <tr>\n",
              "      <th>2</th>\n",
              "      <td>1</td>\n",
              "      <td>view</td>\n",
              "      <td>12718922</td>\n",
              "      <td>2053013553559896355</td>\n",
              "      <td>&lt;NA&gt;</td>\n",
              "      <td>dunlop</td>\n",
              "      <td>72.59</td>\n",
              "      <td>513605798</td>\n",
              "      <td>1569900702</td>\n",
              "    </tr>\n",
              "    <tr>\n",
              "      <th>4</th>\n",
              "      <td>1</td>\n",
              "      <td>view</td>\n",
              "      <td>12711730</td>\n",
              "      <td>2053013553559896355</td>\n",
              "      <td>&lt;NA&gt;</td>\n",
              "      <td>goodride</td>\n",
              "      <td>45.45</td>\n",
              "      <td>513605798</td>\n",
              "      <td>1569902687</td>\n",
              "    </tr>\n",
              "    <tr>\n",
              "      <th>5</th>\n",
              "      <td>1</td>\n",
              "      <td>view</td>\n",
              "      <td>12708497</td>\n",
              "      <td>2053013553559896355</td>\n",
              "      <td>&lt;NA&gt;</td>\n",
              "      <td>nitto</td>\n",
              "      <td>68.21</td>\n",
              "      <td>513605798</td>\n",
              "      <td>1569902730</td>\n",
              "    </tr>\n",
              "    <tr>\n",
              "      <th>6</th>\n",
              "      <td>1</td>\n",
              "      <td>view</td>\n",
              "      <td>5801483</td>\n",
              "      <td>2053013553945772349</td>\n",
              "      <td>electronics.audio.subwoofer</td>\n",
              "      <td>pioneer</td>\n",
              "      <td>58.43</td>\n",
              "      <td>513605798</td>\n",
              "      <td>1569903169</td>\n",
              "    </tr>\n",
              "    <tr>\n",
              "      <th>8</th>\n",
              "      <td>1</td>\n",
              "      <td>view</td>\n",
              "      <td>5800140</td>\n",
              "      <td>2053013553945772349</td>\n",
              "      <td>electronics.audio.subwoofer</td>\n",
              "      <td>sony</td>\n",
              "      <td>41.19</td>\n",
              "      <td>513605798</td>\n",
              "      <td>1569903199</td>\n",
              "    </tr>\n",
              "    <tr>\n",
              "      <th>10</th>\n",
              "      <td>1</td>\n",
              "      <td>view</td>\n",
              "      <td>5801322</td>\n",
              "      <td>2053013553945772349</td>\n",
              "      <td>electronics.audio.subwoofer</td>\n",
              "      <td>pioneer</td>\n",
              "      <td>90.09</td>\n",
              "      <td>513605798</td>\n",
              "      <td>1569903246</td>\n",
              "    </tr>\n",
              "    <tr>\n",
              "      <th>12</th>\n",
              "      <td>1</td>\n",
              "      <td>view</td>\n",
              "      <td>5800827</td>\n",
              "      <td>2053013553945772349</td>\n",
              "      <td>electronics.audio.subwoofer</td>\n",
              "      <td>mystery</td>\n",
              "      <td>172.46</td>\n",
              "      <td>513605798</td>\n",
              "      <td>1569903266</td>\n",
              "    </tr>\n",
              "    <tr>\n",
              "      <th>14</th>\n",
              "      <td>1</td>\n",
              "      <td>view</td>\n",
              "      <td>5800380</td>\n",
              "      <td>2053013553945772349</td>\n",
              "      <td>electronics.audio.subwoofer</td>\n",
              "      <td>hertz</td>\n",
              "      <td>62.65</td>\n",
              "      <td>513605798</td>\n",
              "      <td>1569903298</td>\n",
              "    </tr>\n",
              "  </tbody>\n",
              "</table>\n",
              "</div>"
            ]
          },
          "metadata": {},
          "execution_count": 19
        }
      ]
    },
    {
      "cell_type": "markdown",
      "source": [
        "###Feature temporale: product first time seen \n",
        "Si calcola la feature temporale in funzione che indica il timestamp in cui un item è stato visto per la prima volta. "
      ],
      "metadata": {
        "id": "m9ok80fbWeTH"
      }
    },
    {
      "cell_type": "code",
      "source": [
        "#compute the event time min for each product id\n",
        "item_first_interaction_df = df.groupby('product_id').agg({'event_time_ts': 'min'}) \\\n",
        "            .reset_index().rename(columns={'event_time_ts': 'prod_first_event_time_ts'})\n",
        "\n",
        "item_first_interaction_df.head()\n",
        "gc.collect()"
      ],
      "metadata": {
        "colab": {
          "base_uri": "https://localhost:8080/"
        },
        "id": "jx8fPpX5Wb5w",
        "outputId": "4d5beb84-d537-4cbf-ea42-f25bdfb6d66c"
      },
      "execution_count": null,
      "outputs": [
        {
          "output_type": "execute_result",
          "data": {
            "text/plain": [
              "0"
            ]
          },
          "metadata": {},
          "execution_count": 20
        }
      ]
    },
    {
      "cell_type": "code",
      "source": [
        "df = df.merge(item_first_interaction_df, on=['product_id'], how='left').reset_index(drop=True)"
      ],
      "metadata": {
        "id": "-vXwpQjdWjqB"
      },
      "execution_count": null,
      "outputs": []
    },
    {
      "cell_type": "code",
      "source": [
        "df.head()"
      ],
      "metadata": {
        "colab": {
          "base_uri": "https://localhost:8080/",
          "height": 204
        },
        "id": "feeIFwlHWlW6",
        "outputId": "9715ec6d-7361-470d-ee11-78133334a19c"
      },
      "execution_count": null,
      "outputs": [
        {
          "output_type": "execute_result",
          "data": {
            "text/plain": [
              "   user_session event_type  product_id          category_id  \\\n",
              "0           152       view     1801539  2053013554415534427   \n",
              "1           152       view     1801826  2053013554415534427   \n",
              "2           152       view     1801539  2053013554415534427   \n",
              "3           152       view     1801881  2053013554415534427   \n",
              "4           152       view     1801539  2053013554415534427   \n",
              "\n",
              "          category_code    brand   price    user_id  event_time_ts  \\\n",
              "0  electronics.video.tv       lg  419.24  514971132     1570986064   \n",
              "1  electronics.video.tv  toshiba  359.60  514971132     1570986081   \n",
              "2  electronics.video.tv       lg  419.24  514971132     1570986090   \n",
              "3  electronics.video.tv  samsung  496.40  514971132     1570986093   \n",
              "4  electronics.video.tv       lg  419.24  514971132     1570986100   \n",
              "\n",
              "   prod_first_event_time_ts  \n",
              "0                1569898645  \n",
              "1                1569898007  \n",
              "2                1569898645  \n",
              "3                1569894423  \n",
              "4                1569898645  "
            ],
            "text/html": [
              "<div>\n",
              "<style scoped>\n",
              "    .dataframe tbody tr th:only-of-type {\n",
              "        vertical-align: middle;\n",
              "    }\n",
              "\n",
              "    .dataframe tbody tr th {\n",
              "        vertical-align: top;\n",
              "    }\n",
              "\n",
              "    .dataframe thead th {\n",
              "        text-align: right;\n",
              "    }\n",
              "</style>\n",
              "<table border=\"1\" class=\"dataframe\">\n",
              "  <thead>\n",
              "    <tr style=\"text-align: right;\">\n",
              "      <th></th>\n",
              "      <th>user_session</th>\n",
              "      <th>event_type</th>\n",
              "      <th>product_id</th>\n",
              "      <th>category_id</th>\n",
              "      <th>category_code</th>\n",
              "      <th>brand</th>\n",
              "      <th>price</th>\n",
              "      <th>user_id</th>\n",
              "      <th>event_time_ts</th>\n",
              "      <th>prod_first_event_time_ts</th>\n",
              "    </tr>\n",
              "  </thead>\n",
              "  <tbody>\n",
              "    <tr>\n",
              "      <th>0</th>\n",
              "      <td>152</td>\n",
              "      <td>view</td>\n",
              "      <td>1801539</td>\n",
              "      <td>2053013554415534427</td>\n",
              "      <td>electronics.video.tv</td>\n",
              "      <td>lg</td>\n",
              "      <td>419.24</td>\n",
              "      <td>514971132</td>\n",
              "      <td>1570986064</td>\n",
              "      <td>1569898645</td>\n",
              "    </tr>\n",
              "    <tr>\n",
              "      <th>1</th>\n",
              "      <td>152</td>\n",
              "      <td>view</td>\n",
              "      <td>1801826</td>\n",
              "      <td>2053013554415534427</td>\n",
              "      <td>electronics.video.tv</td>\n",
              "      <td>toshiba</td>\n",
              "      <td>359.60</td>\n",
              "      <td>514971132</td>\n",
              "      <td>1570986081</td>\n",
              "      <td>1569898007</td>\n",
              "    </tr>\n",
              "    <tr>\n",
              "      <th>2</th>\n",
              "      <td>152</td>\n",
              "      <td>view</td>\n",
              "      <td>1801539</td>\n",
              "      <td>2053013554415534427</td>\n",
              "      <td>electronics.video.tv</td>\n",
              "      <td>lg</td>\n",
              "      <td>419.24</td>\n",
              "      <td>514971132</td>\n",
              "      <td>1570986090</td>\n",
              "      <td>1569898645</td>\n",
              "    </tr>\n",
              "    <tr>\n",
              "      <th>3</th>\n",
              "      <td>152</td>\n",
              "      <td>view</td>\n",
              "      <td>1801881</td>\n",
              "      <td>2053013554415534427</td>\n",
              "      <td>electronics.video.tv</td>\n",
              "      <td>samsung</td>\n",
              "      <td>496.40</td>\n",
              "      <td>514971132</td>\n",
              "      <td>1570986093</td>\n",
              "      <td>1569894423</td>\n",
              "    </tr>\n",
              "    <tr>\n",
              "      <th>4</th>\n",
              "      <td>152</td>\n",
              "      <td>view</td>\n",
              "      <td>1801539</td>\n",
              "      <td>2053013554415534427</td>\n",
              "      <td>electronics.video.tv</td>\n",
              "      <td>lg</td>\n",
              "      <td>419.24</td>\n",
              "      <td>514971132</td>\n",
              "      <td>1570986100</td>\n",
              "      <td>1569898645</td>\n",
              "    </tr>\n",
              "  </tbody>\n",
              "</table>\n",
              "</div>"
            ]
          },
          "metadata": {},
          "execution_count": 22
        }
      ]
    },
    {
      "cell_type": "code",
      "source": [
        "len(df)"
      ],
      "metadata": {
        "colab": {
          "base_uri": "https://localhost:8080/"
        },
        "id": "SXmGYwA8XovJ",
        "outputId": "63fed8e4-dc7f-4802-ee72-b55c95943ae4"
      },
      "execution_count": null,
      "outputs": [
        {
          "output_type": "execute_result",
          "data": {
            "text/plain": [
              "30733301"
            ]
          },
          "metadata": {},
          "execution_count": 23
        }
      ]
    },
    {
      "cell_type": "markdown",
      "source": [
        "Si salva il risultato del preprocessing in un file .parquet"
      ],
      "metadata": {
        "id": "_LVRbrkFrzAm"
      }
    },
    {
      "cell_type": "code",
      "source": [
        "# save df as parquet files on disk\n",
        "df.to_parquet(os.path.join(\"/content/drive/MyDrive/dataset_rees46\", '2019-Oct.parquet'))\n"
      ],
      "metadata": {
        "id": "0RJYpEE95by0"
      },
      "execution_count": null,
      "outputs": []
    },
    {
      "cell_type": "code",
      "source": [],
      "metadata": {
        "id": "WEnqpyPP-4XW"
      },
      "execution_count": null,
      "outputs": []
    }
  ]
}