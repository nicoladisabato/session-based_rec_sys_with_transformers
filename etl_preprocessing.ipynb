{
  "nbformat": 4,
  "nbformat_minor": 0,
  "metadata": {
    "colab": {
      "provenance": []
    },
    "kernelspec": {
      "name": "python3",
      "display_name": "Python 3"
    },
    "language_info": {
      "name": "python"
    },
    "accelerator": "GPU",
    "gpuClass": "premium"
  },
  "cells": [
    {
      "cell_type": "markdown",
      "source": [
        "# ETL preprocessing - Creazione del session-based dataset"
      ],
      "metadata": {
        "id": "OYtryu4NNxSV"
      }
    },
    {
      "cell_type": "markdown",
      "source": [
        "In questa fase si procede a fare una pipeline di preprocessing e feature engineering utilizzando Rapids cuDF e Merlin NVTabular per preparare il dataset al training effettivo del modello di session-based recommendation.\n",
        "\n",
        "Per farlo è necessario creare delle features sequenziali ed i seguenti passi:\n",
        "\n",
        "\n",
        "*   Categorify() sulle features di tipo categorico\n",
        "*   Raggruppamento le features in base alle singole sessioni ordinandole in base al tempo con l'operazione Groupby()\n",
        "*   Esportazione del dataset preprocessato in diversi file .parquet partizionati in base al giorno, creando train, valid e test set\n"
      ],
      "metadata": {
        "id": "39WGc_W9P-XO"
      }
    },
    {
      "cell_type": "code",
      "execution_count": null,
      "metadata": {
        "id": "WjZvbIAWNhJO"
      },
      "outputs": [],
      "source": [
        "!pip install cudf-cu11==22.12 dask-cudf-cu11==22.12 --extra-index-url=https://pypi.nvidia.com/.\n",
        "!rm -rf /usr/local/lib/python3.8/dist-packages/cupy*\n",
        "!pip install cuml-cu11 --extra-index-url=https://pypi.nvidia.com\n",
        "!pip install cugraph-cu11 --extra-index-url=https://pypi.nvidia.com"
      ]
    },
    {
      "cell_type": "code",
      "source": [
        "!pip install transformers4rec[pytorch,nvtabular]"
      ],
      "metadata": {
        "id": "QVCJBe1UNowG"
      },
      "execution_count": null,
      "outputs": []
    },
    {
      "cell_type": "code",
      "source": [
        "import os\n",
        "import numpy as np \n",
        "import gc\n",
        "import shutil\n",
        "import glob\n",
        "\n",
        "import dask_cudf\n",
        "import cudf\n",
        "import nvtabular as nvt\n",
        "from merlin.dag import ColumnSelector\n",
        "from merlin.schema import Schema, Tags\n",
        "import pandas as pd \n",
        "from nvtabular.ops import Operator"
      ],
      "metadata": {
        "id": "XKrjFQJPNumm"
      },
      "execution_count": null,
      "outputs": []
    },
    {
      "cell_type": "code",
      "source": [
        "df = cudf.read_parquet(\"/content/drive/MyDrive/dataset_rees46/2019-Oct.parquet\")  \n",
        "df.head(10)"
      ],
      "metadata": {
        "colab": {
          "base_uri": "https://localhost:8080/",
          "height": 359
        },
        "id": "opWXco2-Pbdi",
        "outputId": "9b1bcfe3-2d88-441f-faf5-fd2e4147c04e"
      },
      "execution_count": null,
      "outputs": [
        {
          "output_type": "execute_result",
          "data": {
            "text/plain": [
              "   user_session event_type  product_id          category_id  \\\n",
              "0           152       view     1801539  2053013554415534427   \n",
              "1           152       view     1801826  2053013554415534427   \n",
              "2           152       view     1801539  2053013554415534427   \n",
              "3           152       view     1801881  2053013554415534427   \n",
              "4           152       view     1801539  2053013554415534427   \n",
              "5           152       view     1801400  2053013554415534427   \n",
              "6           152       view     1801539  2053013554415534427   \n",
              "7           152       view     1801693  2053013554415534427   \n",
              "8           152       view     1801539  2053013554415534427   \n",
              "9           152       view     1801693  2053013554415534427   \n",
              "\n",
              "          category_code    brand   price    user_id  event_time_ts  \\\n",
              "0  electronics.video.tv       lg  419.24  514971132     1570986064   \n",
              "1  electronics.video.tv  toshiba  359.60  514971132     1570986081   \n",
              "2  electronics.video.tv       lg  419.24  514971132     1570986090   \n",
              "3  electronics.video.tv  samsung  496.40  514971132     1570986093   \n",
              "4  electronics.video.tv       lg  419.24  514971132     1570986100   \n",
              "5  electronics.video.tv    haier  437.33  514971132     1570986102   \n",
              "6  electronics.video.tv       lg  419.24  514971132     1570986104   \n",
              "7  electronics.video.tv  hisense  452.78  514971132     1570986110   \n",
              "8  electronics.video.tv       lg  419.24  514971132     1570986115   \n",
              "9  electronics.video.tv  hisense  452.78  514971132     1570986115   \n",
              "\n",
              "   prod_first_event_time_ts  \n",
              "0                1569898645  \n",
              "1                1569898007  \n",
              "2                1569898645  \n",
              "3                1569894423  \n",
              "4                1569898645  \n",
              "5                1569898200  \n",
              "6                1569898645  \n",
              "7                1569902404  \n",
              "8                1569898645  \n",
              "9                1569902404  "
            ],
            "text/html": [
              "<div>\n",
              "<style scoped>\n",
              "    .dataframe tbody tr th:only-of-type {\n",
              "        vertical-align: middle;\n",
              "    }\n",
              "\n",
              "    .dataframe tbody tr th {\n",
              "        vertical-align: top;\n",
              "    }\n",
              "\n",
              "    .dataframe thead th {\n",
              "        text-align: right;\n",
              "    }\n",
              "</style>\n",
              "<table border=\"1\" class=\"dataframe\">\n",
              "  <thead>\n",
              "    <tr style=\"text-align: right;\">\n",
              "      <th></th>\n",
              "      <th>user_session</th>\n",
              "      <th>event_type</th>\n",
              "      <th>product_id</th>\n",
              "      <th>category_id</th>\n",
              "      <th>category_code</th>\n",
              "      <th>brand</th>\n",
              "      <th>price</th>\n",
              "      <th>user_id</th>\n",
              "      <th>event_time_ts</th>\n",
              "      <th>prod_first_event_time_ts</th>\n",
              "    </tr>\n",
              "  </thead>\n",
              "  <tbody>\n",
              "    <tr>\n",
              "      <th>0</th>\n",
              "      <td>152</td>\n",
              "      <td>view</td>\n",
              "      <td>1801539</td>\n",
              "      <td>2053013554415534427</td>\n",
              "      <td>electronics.video.tv</td>\n",
              "      <td>lg</td>\n",
              "      <td>419.24</td>\n",
              "      <td>514971132</td>\n",
              "      <td>1570986064</td>\n",
              "      <td>1569898645</td>\n",
              "    </tr>\n",
              "    <tr>\n",
              "      <th>1</th>\n",
              "      <td>152</td>\n",
              "      <td>view</td>\n",
              "      <td>1801826</td>\n",
              "      <td>2053013554415534427</td>\n",
              "      <td>electronics.video.tv</td>\n",
              "      <td>toshiba</td>\n",
              "      <td>359.60</td>\n",
              "      <td>514971132</td>\n",
              "      <td>1570986081</td>\n",
              "      <td>1569898007</td>\n",
              "    </tr>\n",
              "    <tr>\n",
              "      <th>2</th>\n",
              "      <td>152</td>\n",
              "      <td>view</td>\n",
              "      <td>1801539</td>\n",
              "      <td>2053013554415534427</td>\n",
              "      <td>electronics.video.tv</td>\n",
              "      <td>lg</td>\n",
              "      <td>419.24</td>\n",
              "      <td>514971132</td>\n",
              "      <td>1570986090</td>\n",
              "      <td>1569898645</td>\n",
              "    </tr>\n",
              "    <tr>\n",
              "      <th>3</th>\n",
              "      <td>152</td>\n",
              "      <td>view</td>\n",
              "      <td>1801881</td>\n",
              "      <td>2053013554415534427</td>\n",
              "      <td>electronics.video.tv</td>\n",
              "      <td>samsung</td>\n",
              "      <td>496.40</td>\n",
              "      <td>514971132</td>\n",
              "      <td>1570986093</td>\n",
              "      <td>1569894423</td>\n",
              "    </tr>\n",
              "    <tr>\n",
              "      <th>4</th>\n",
              "      <td>152</td>\n",
              "      <td>view</td>\n",
              "      <td>1801539</td>\n",
              "      <td>2053013554415534427</td>\n",
              "      <td>electronics.video.tv</td>\n",
              "      <td>lg</td>\n",
              "      <td>419.24</td>\n",
              "      <td>514971132</td>\n",
              "      <td>1570986100</td>\n",
              "      <td>1569898645</td>\n",
              "    </tr>\n",
              "    <tr>\n",
              "      <th>5</th>\n",
              "      <td>152</td>\n",
              "      <td>view</td>\n",
              "      <td>1801400</td>\n",
              "      <td>2053013554415534427</td>\n",
              "      <td>electronics.video.tv</td>\n",
              "      <td>haier</td>\n",
              "      <td>437.33</td>\n",
              "      <td>514971132</td>\n",
              "      <td>1570986102</td>\n",
              "      <td>1569898200</td>\n",
              "    </tr>\n",
              "    <tr>\n",
              "      <th>6</th>\n",
              "      <td>152</td>\n",
              "      <td>view</td>\n",
              "      <td>1801539</td>\n",
              "      <td>2053013554415534427</td>\n",
              "      <td>electronics.video.tv</td>\n",
              "      <td>lg</td>\n",
              "      <td>419.24</td>\n",
              "      <td>514971132</td>\n",
              "      <td>1570986104</td>\n",
              "      <td>1569898645</td>\n",
              "    </tr>\n",
              "    <tr>\n",
              "      <th>7</th>\n",
              "      <td>152</td>\n",
              "      <td>view</td>\n",
              "      <td>1801693</td>\n",
              "      <td>2053013554415534427</td>\n",
              "      <td>electronics.video.tv</td>\n",
              "      <td>hisense</td>\n",
              "      <td>452.78</td>\n",
              "      <td>514971132</td>\n",
              "      <td>1570986110</td>\n",
              "      <td>1569902404</td>\n",
              "    </tr>\n",
              "    <tr>\n",
              "      <th>8</th>\n",
              "      <td>152</td>\n",
              "      <td>view</td>\n",
              "      <td>1801539</td>\n",
              "      <td>2053013554415534427</td>\n",
              "      <td>electronics.video.tv</td>\n",
              "      <td>lg</td>\n",
              "      <td>419.24</td>\n",
              "      <td>514971132</td>\n",
              "      <td>1570986115</td>\n",
              "      <td>1569898645</td>\n",
              "    </tr>\n",
              "    <tr>\n",
              "      <th>9</th>\n",
              "      <td>152</td>\n",
              "      <td>view</td>\n",
              "      <td>1801693</td>\n",
              "      <td>2053013554415534427</td>\n",
              "      <td>electronics.video.tv</td>\n",
              "      <td>hisense</td>\n",
              "      <td>452.78</td>\n",
              "      <td>514971132</td>\n",
              "      <td>1570986115</td>\n",
              "      <td>1569902404</td>\n",
              "    </tr>\n",
              "  </tbody>\n",
              "</table>\n",
              "</div>"
            ]
          },
          "metadata": {},
          "execution_count": 2
        }
      ]
    },
    {
      "cell_type": "code",
      "source": [
        "df.shape"
      ],
      "metadata": {
        "colab": {
          "base_uri": "https://localhost:8080/"
        },
        "id": "BU0F_voAPTkH",
        "outputId": "3e3ccd9a-77dd-475a-d492-cc9979d87987"
      },
      "execution_count": null,
      "outputs": [
        {
          "output_type": "execute_result",
          "data": {
            "text/plain": [
              "(30733301, 10)"
            ]
          },
          "metadata": {},
          "execution_count": 3
        }
      ]
    },
    {
      "cell_type": "code",
      "source": [
        "df.isnull().any()"
      ],
      "metadata": {
        "colab": {
          "base_uri": "https://localhost:8080/"
        },
        "id": "6ruoN7a7Pl1E",
        "outputId": "79c1b553-c248-4b63-abba-a6c4a8a0ec09"
      },
      "execution_count": null,
      "outputs": [
        {
          "output_type": "execute_result",
          "data": {
            "text/plain": [
              "user_session                False\n",
              "event_type                  False\n",
              "product_id                  False\n",
              "category_id                 False\n",
              "category_code                True\n",
              "brand                        True\n",
              "price                       False\n",
              "user_id                     False\n",
              "event_time_ts               False\n",
              "prod_first_event_time_ts    False\n",
              "dtype: bool"
            ]
          },
          "metadata": {},
          "execution_count": 4
        }
      ]
    },
    {
      "cell_type": "markdown",
      "source": [
        "### Categorify() sulle features di tipo categorico"
      ],
      "metadata": {
        "id": "d_DP9PhpP6cv"
      }
    },
    {
      "cell_type": "code",
      "source": [
        "# categorify features \n",
        "cat_feats = ['user_session', 'category_code', 'brand', 'user_id', 'product_id', 'category_id', 'event_type'] >> nvt.ops.Categorify(start_index=1)"
      ],
      "metadata": {
        "id": "UaMB9DW0P2nc"
      },
      "execution_count": null,
      "outputs": []
    },
    {
      "cell_type": "markdown",
      "source": [
        "### Estrazione delle feature temporali\n",
        "Si estraggono le feature temporali a partire dalla feature event_time_ts, in formato datetime. \n",
        "Inoltre vengono create delle features relative al weekday: nello specifico si rappresenta il giorno della settimana come una feature ciclica, rappresentabili con seno e coseno, che possono essere rappresentate quindi nello spazio continuo (ore, giorno, settimane o mesi hanno caratteristiche cicliche intrinseche). \n",
        "\n",
        "https://ianlondon.github.io/blog/encoding-cyclical-features-24hour-time/\n",
        "\n"
      ],
      "metadata": {
        "id": "91hm6Ne6dc4l"
      }
    },
    {
      "cell_type": "code",
      "source": [
        "# create time features\n",
        "session_ts = ['event_time_ts']\n",
        "\n",
        "session_time = (\n",
        "    session_ts >> \n",
        "    nvt.ops.LambdaOp(lambda col: cudf.to_datetime(col, unit='s')) >> \n",
        "    nvt.ops.Rename(name = 'event_time_dt')\n",
        ")\n",
        "\n",
        "sessiontime_weekday = (\n",
        "    session_time >> \n",
        "    nvt.ops.LambdaOp(lambda col: col.dt.weekday) >> \n",
        "    nvt.ops.Rename(name ='et_dayofweek')\n",
        ")"
      ],
      "metadata": {
        "id": "CX04kYAHQKaq"
      },
      "execution_count": null,
      "outputs": []
    },
    {
      "cell_type": "code",
      "source": [
        "def get_cycled_feature_value_sin(col, max_value):\n",
        "    value_scaled = (col + 0.000001) / max_value\n",
        "    value_sin = np.sin(2*np.pi*value_scaled)\n",
        "    return value_sin\n",
        "\n",
        "def get_cycled_feature_value_cos(col, max_value):\n",
        "    value_scaled = (col + 0.000001) / max_value\n",
        "    value_cos = np.cos(2*np.pi*value_scaled)\n",
        "    return value_cos"
      ],
      "metadata": {
        "id": "QkOgMolBQVt-"
      },
      "execution_count": null,
      "outputs": []
    },
    {
      "cell_type": "code",
      "source": [
        "weekday_sin = sessiontime_weekday >> (lambda col: get_cycled_feature_value_sin(col+1, 7)) >> nvt.ops.Rename(name = 'et_dayofweek_sin')\n",
        "weekday_cos= sessiontime_weekday >> (lambda col: get_cycled_feature_value_cos(col+1, 7)) >> nvt.ops.Rename(name = 'et_dayofweek_cos')"
      ],
      "metadata": {
        "id": "IRq8uJi6QXuz"
      },
      "execution_count": null,
      "outputs": []
    },
    {
      "cell_type": "markdown",
      "source": [
        "Aggiunta della feature Product Recency: si calcola la feature product recency in termini di giorno, attraverso una custom op."
      ],
      "metadata": {
        "id": "idli86SUQ5gD"
      }
    },
    {
      "cell_type": "code",
      "source": [
        "# Compute Item recency: Define a custom Op \n",
        "class ItemRecency(nvt.ops.Operator):\n",
        "    def transform(self, columns, gdf):\n",
        "        for column in columns.names:\n",
        "            col = gdf[column]\n",
        "            item_first_timestamp = gdf['prod_first_event_time_ts']\n",
        "            delta_days = (col - item_first_timestamp) / (60*60*24)\n",
        "            gdf[column + \"_age_days\"] = delta_days * (delta_days >=0)\n",
        "        return gdf\n",
        "\n",
        "    def compute_selector(\n",
        "        self,\n",
        "        input_schema: Schema,\n",
        "        selector: ColumnSelector,\n",
        "        parents_selector: ColumnSelector,\n",
        "        dependencies_selector: ColumnSelector,\n",
        "    ) -> ColumnSelector:\n",
        "        self._validate_matching_cols(input_schema, parents_selector, \"computing input selector\")\n",
        "        return parents_selector\n",
        "\n",
        "    def column_mapping(self, col_selector):\n",
        "        column_mapping = {}\n",
        "        for col_name in col_selector.names:\n",
        "            column_mapping[col_name + \"_age_days\"] = [col_name]\n",
        "        return column_mapping\n",
        "\n",
        "    @property\n",
        "    def dependencies(self):\n",
        "        return [\"prod_first_event_time_ts\"]\n",
        "\n",
        "    @property\n",
        "    def output_dtype(self):\n",
        "        return np.float64"
      ],
      "metadata": {
        "id": "3vEoE3RhQ2JJ"
      },
      "execution_count": null,
      "outputs": []
    },
    {
      "cell_type": "code",
      "source": [
        "recency_features = ['event_time_ts'] >> ItemRecency() \n",
        "recency_features_norm = recency_features >> nvt.ops.LogOp() >> nvt.ops.Normalize(out_dtype=np.float32) >> nvt.ops.Rename(name='product_recency_days_log_norm')"
      ],
      "metadata": {
        "id": "cWpteqsiRA4E"
      },
      "execution_count": null,
      "outputs": []
    },
    {
      "cell_type": "code",
      "source": [
        "time_features = (\n",
        "    session_time +\n",
        "    sessiontime_weekday +\n",
        "    weekday_sin +\n",
        "    weekday_cos +\n",
        "    recency_features_norm\n",
        ")"
      ],
      "metadata": {
        "id": "1BH7U_5nRDBQ"
      },
      "execution_count": null,
      "outputs": []
    },
    {
      "cell_type": "markdown",
      "source": [
        "###Normalizzazione delle feature continue\n"
      ],
      "metadata": {
        "id": "a9Kc2SHlRGhc"
      }
    },
    {
      "cell_type": "code",
      "source": [
        "# Smoothing price long-tailed distribution and applying standardization\n",
        "price_log = ['price'] >> nvt.ops.LogOp() >> nvt.ops.Normalize(out_dtype=np.float32) >> nvt.ops.Rename(name='price_log_norm')"
      ],
      "metadata": {
        "id": "6sJbBNxcRHi-"
      },
      "execution_count": null,
      "outputs": []
    },
    {
      "cell_type": "markdown",
      "source": [
        "Calcola la media del prezzo di ogni categoria e il prezzo di un item relativo al prezzo medio della sua categoria.\n",
        "Ad esempio, se un item ha prezzo 50 e la sua categoria ha prezzo medio 115, con la formula presente in relative_price_to_avg_categ(), si avrà un risultato di -0.3913. Ciò significa che il prezzo del prodotto sarà il 39% meno del prezzo medio di tutti i prodotti della sua categoria.\n",
        "\n"
      ],
      "metadata": {
        "id": "4V900Juohly-"
      }
    },
    {
      "cell_type": "code",
      "source": [
        "# Relative price to the average price for the category_id\n",
        "def relative_price_to_avg_categ(col, gdf):\n",
        "    epsilon = 1e-5\n",
        "    col = ((gdf['price'] - col) / (col + epsilon)) * (col > 0).astype(int)\n",
        "    return col\n",
        "    \n",
        "#avg for each category id\n",
        "avg_category_id_pr = ['category_id'] >> nvt.ops.JoinGroupby(cont_cols =['price'], stats=[\"mean\"]) >> nvt.ops.Rename(name='avg_category_id_price')\n",
        "\n",
        "#calculate the relative price of each product to the avg of his category \n",
        "relative_price_to_avg_category = avg_category_id_pr >> nvt.ops.LambdaOp(relative_price_to_avg_categ, dependency=['price']) >> nvt.ops.Rename(name=\"relative_price_to_avg_categ_id\")\n"
      ],
      "metadata": {
        "id": "QTycVnl9RPxh"
      },
      "execution_count": null,
      "outputs": []
    },
    {
      "cell_type": "markdown",
      "source": [
        "##Grouping interactions into sessions. Aggregate by session id and creates the sequential features"
      ],
      "metadata": {
        "id": "RKyLtGJVRgco"
      }
    },
    {
      "cell_type": "code",
      "source": [
        "groupby_feats = ['event_time_ts', 'user_session'] + cat_feats + time_features + price_log + relative_price_to_avg_category"
      ],
      "metadata": {
        "id": "5Woc4byfRiC0"
      },
      "execution_count": null,
      "outputs": []
    },
    {
      "cell_type": "code",
      "source": [
        "from merlin.schema.tags import Tags\n",
        "from nvtabular.ops import *\n",
        "\n",
        "\n",
        "SESSIONS_MAX_LENGTH = 20 \n",
        "MINIMUM_SESSION_LENGTH = 2\n",
        "\n",
        "# Define Groupby Workflow\n",
        "groupby_features = groupby_feats >> nvt.ops.Groupby(\n",
        "    groupby_cols=[\"user_session\"], \n",
        "    sort_cols=[\"event_time_ts\"],\n",
        "    aggs={\n",
        "        'user_id': ['first'],\n",
        "        'product_id': [\"list\", \"count\"],\n",
        "        'category_code': [\"list\"],  \n",
        "        'brand': [\"list\"], \n",
        "        'category_id': [\"list\"], \n",
        "        'event_time_ts': [\"first\"],\n",
        "        'event_time_dt': [\"first\"],\n",
        "        'et_dayofweek_sin': [\"list\"],\n",
        "        'et_dayofweek_cos': [\"list\"],\n",
        "        'price_log_norm': [\"list\"],\n",
        "        'relative_price_to_avg_categ_id': [\"list\"],\n",
        "        'product_recency_days_log_norm': [\"list\"]\n",
        "        },\n",
        "    name_sep=\"-\")\n",
        "\n",
        "#truncate the sequence features in length according to sessions_max_length param, which is set as 20.\n",
        "sequence_features_truncated = (\n",
        "    groupby_features['category_id-list']\n",
        "    >> nvt.ops.ListSlice(0,SESSIONS_MAX_LENGTH) #the first 20 \n",
        ")\n",
        "\n",
        "sequence_features_truncated_item = (\n",
        "    groupby_features['product_id-list']\n",
        "    >> nvt.ops.ListSlice(0,SESSIONS_MAX_LENGTH) #the first 20\n",
        "    >> TagAsItemID()\n",
        ") \n",
        "\n",
        "sequence_features_truncated_cat = (\n",
        "    groupby_features['brand-list', 'category_code-list'] \n",
        "    >> nvt.ops.ListSlice(0,SESSIONS_MAX_LENGTH) \n",
        "    >> nvt.ops.AddMetadata(tags=[Tags.CATEGORICAL])\n",
        "    \n",
        ")\n",
        "\n",
        "sequence_features_truncated_cont = (\n",
        "    groupby_features['et_dayofweek_sin-list', 'et_dayofweek_cos-list', 'price_log_norm-list', 'relative_price_to_avg_categ_id-list','product_recency_days_log_norm-list'] \n",
        "    >> nvt.ops.ListSlice(0,SESSIONS_MAX_LENGTH) \n",
        "    >> nvt.ops.AddMetadata(tags=[Tags.CONTINUOUS])\n",
        ")"
      ],
      "metadata": {
        "id": "Tgqb0e3zR07l"
      },
      "execution_count": null,
      "outputs": []
    },
    {
      "cell_type": "code",
      "source": [
        "# calculate session day index based on 'timestamp-first' column\n",
        "day_index = ((groupby_features['event_time_dt-first'])  >> \n",
        "    nvt.ops.LambdaOp(lambda col: (col - col.min()).dt.days +1) >> \n",
        "    nvt.ops.Rename(f = lambda col: \"day_index\")\n",
        ")"
      ],
      "metadata": {
        "id": "TKn_qPB8UKLo"
      },
      "execution_count": null,
      "outputs": []
    },
    {
      "cell_type": "code",
      "source": [
        "#Select certain columns to be saved\n",
        "selected_features = (\n",
        "    groupby_features['product_id-count', 'user_session'] + \n",
        "    sequence_features_truncated_item +\n",
        "    sequence_features_truncated + \n",
        "    sequence_features_truncated_cat +\n",
        "    sequence_features_truncated_cont +\n",
        "    day_index\n",
        ") "
      ],
      "metadata": {
        "id": "KtocdCKzULZh"
      },
      "execution_count": null,
      "outputs": []
    },
    {
      "cell_type": "code",
      "source": [
        "#Filter out the session that have less than 2 interactions.\n",
        "filtered_sessions = selected_features >> nvt.ops.Filter(f=lambda df: df[\"product_id-count\"] >= MINIMUM_SESSION_LENGTH)\n",
        "\n",
        "#value_count min and max as property\n",
        "seq_feats_list = filtered_sessions['product_id-list', 'category_id-list'] >> nvt.ops.ValueCount()\n",
        "\n",
        "# avoid numba warnings\n",
        "from numba import config\n",
        "config.CUDA_LOW_OCCUPANCY_WARNINGS = 0"
      ],
      "metadata": {
        "id": "bw9l1mTNUNAp"
      },
      "execution_count": null,
      "outputs": []
    },
    {
      "cell_type": "code",
      "source": [
        "dataset = nvt.Dataset(df)\n",
        "\n",
        "workflow = nvt.Workflow(filtered_sessions)\n",
        "workflow.fit(dataset)\n",
        "sessions_gdf = workflow.transform(dataset).to_ddf()"
      ],
      "metadata": {
        "id": "G8ZHJnNCUOyp",
        "colab": {
          "base_uri": "https://localhost:8080/"
        },
        "outputId": "eb5c7b1b-0028-428c-ac30-17fc2e10875e"
      },
      "execution_count": null,
      "outputs": [
        {
          "output_type": "stream",
          "name": "stderr",
          "text": [
            "/usr/local/lib/python3.8/dist-packages/merlin/schema/tags.py:148: UserWarning: Compound tags like Tags.ITEM_ID have been deprecated and will be removed in a future version. Please use the atomic versions of these tags, like [<Tags.ITEM: 'item'>, <Tags.ID: 'id'>].\n",
            "  warnings.warn(\n",
            "/usr/local/lib/python3.8/dist-packages/merlin/schema/tags.py:148: UserWarning: Compound tags like Tags.ITEM_ID have been deprecated and will be removed in a future version. Please use the atomic versions of these tags, like [<Tags.ITEM: 'item'>, <Tags.ID: 'id'>].\n",
            "  warnings.warn(\n",
            "/usr/local/lib/python3.8/dist-packages/merlin/schema/tags.py:148: UserWarning: Compound tags like Tags.ITEM_ID have been deprecated and will be removed in a future version. Please use the atomic versions of these tags, like [<Tags.ITEM: 'item'>, <Tags.ID: 'id'>].\n",
            "  warnings.warn(\n"
          ]
        }
      ]
    },
    {
      "cell_type": "code",
      "source": [
        "sessions_gdf.head(10)"
      ],
      "metadata": {
        "colab": {
          "base_uri": "https://localhost:8080/",
          "height": 804
        },
        "id": "tvU7_HqzUVVd",
        "outputId": "0b2fa0f7-0539-446d-e8a9-609645d00861"
      },
      "execution_count": null,
      "outputs": [
        {
          "output_type": "stream",
          "name": "stderr",
          "text": [
            "/usr/local/lib/python3.8/dist-packages/merlin/schema/tags.py:148: UserWarning: Compound tags like Tags.ITEM_ID have been deprecated and will be removed in a future version. Please use the atomic versions of these tags, like [<Tags.ITEM: 'item'>, <Tags.ID: 'id'>].\n",
            "  warnings.warn(\n",
            "/usr/local/lib/python3.8/dist-packages/merlin/schema/tags.py:148: UserWarning: Compound tags like Tags.ITEM_ID have been deprecated and will be removed in a future version. Please use the atomic versions of these tags, like [<Tags.ITEM: 'item'>, <Tags.ID: 'id'>].\n",
            "  warnings.warn(\n"
          ]
        },
        {
          "output_type": "execute_result",
          "data": {
            "text/plain": [
              "   product_id-count  user_session  \\\n",
              "0              1008             2   \n",
              "1               779             3   \n",
              "2               365             4   \n",
              "3               353             5   \n",
              "4               332             6   \n",
              "5               329             7   \n",
              "6               315             8   \n",
              "7               300             9   \n",
              "8               294            10   \n",
              "9               286            11   \n",
              "\n",
              "                                     product_id-list  \\\n",
              "0  [621, 2934, 621, 2763, 11453, 35, 266, 762, 11...   \n",
              "1  [26848, 111412, 31916, 10389, 28422, 671, 898,...   \n",
              "2  [7317, 8858, 551, 2184, 410, 14690, 644, 1745,...   \n",
              "3  [1491, 2015, 1491, 307, 100, 317, 1866, 544, 3...   \n",
              "4  [1190, 3744, 6861, 625, 1190, 205, 195, 208, 3...   \n",
              "5  [2224, 5024, 4235, 1440, 7520, 6876, 8202, 588...   \n",
              "6  [28, 10, 4, 60, 166, 172, 388, 146, 189, 668, ...   \n",
              "7  [526, 442, 1019, 1665, 2863, 4076, 9708, 4250,...   \n",
              "8  [171, 61, 4394, 857, 2546, 321, 33574, 2546, 8...   \n",
              "9  [838, 4742, 7754, 10876, 14169, 17649, 11077, ...   \n",
              "\n",
              "                                    category_id-list  \\\n",
              "0  [13, 13, 13, 6, 6, 6, 6, 6, 6, 6, 6, 6, 6, 6, ...   \n",
              "1  [3, 3, 3, 3, 3, 20, 20, 20, 20, 20, 20, 20, 20...   \n",
              "2  [11, 11, 11, 203, 32, 83, 57, 35, 414, 121, 11...   \n",
              "3  [4, 4, 4, 4, 4, 4, 4, 4, 4, 4, 4, 4, 4, 4, 4, ...   \n",
              "4  [316, 26, 26, 23, 316, 35, 26, 32, 26, 26, 26,...   \n",
              "5  [22, 22, 22, 22, 22, 22, 22, 22, 22, 22, 22, 2...   \n",
              "6  [2, 5, 2, 10, 10, 10, 2, 5, 2, 2, 2, 2, 2, 2, ...   \n",
              "7  [6, 80, 80, 80, 80, 80, 80, 80, 80, 80, 80, 80...   \n",
              "8  [6, 6, 6, 6, 6, 6, 6, 6, 6, 6, 6, 6, 6, 6, 6, ...   \n",
              "9  [18, 18, 18, 18, 18, 18, 18, 18, 18, 18, 18, 1...   \n",
              "\n",
              "                                          brand-list  \\\n",
              "0  [1, 43, 1, 15, 15, 15, 15, 15, 15, 15, 15, 15,...   \n",
              "1  [190, 111, 275, 290, 536, 31, 10, 31, 416, 185...   \n",
              "2  [18, 25, 2, 1, 1, 28, 1, 1, 463, 1, 18, 18, 1,...   \n",
              "3  [24, 11, 24, 11, 11, 24, 16, 16, 24, 1, 24, 24...   \n",
              "4  [1, 1, 1, 1, 1, 42, 1, 1, 29, 1, 1, 29, 42, 1,...   \n",
              "5  [13, 37, 13, 13, 1, 1, 37, 37, 37, 37, 1, 470,...   \n",
              "6  [3, 3, 3, 3, 3, 3, 3, 3, 3, 3, 3, 3, 3, 3, 3, ...   \n",
              "7  [2, 8, 8, 8, 10, 54, 8, 54, 10, 10, 10, 54, 54...   \n",
              "8  [2, 2, 221, 2, 36, 8, 1, 36, 2, 2, 10, 2, 8, 2...   \n",
              "9  [161, 32, 1124, 155, 161, 58, 22, 75, 948, 22,...   \n",
              "\n",
              "                                  category_code-list  \\\n",
              "0  [8, 8, 8, 6, 6, 6, 6, 6, 6, 6, 6, 6, 6, 6, 6, ...   \n",
              "1  [1, 1, 1, 1, 1, 16, 16, 16, 16, 16, 16, 16, 16...   \n",
              "2  [10, 10, 10, 1, 21, 39, 1, 1, 1, 1, 10, 10, 1,...   \n",
              "3  [4, 4, 4, 4, 4, 4, 4, 4, 4, 4, 4, 4, 4, 4, 4, ...   \n",
              "4  [1, 15, 15, 14, 1, 1, 15, 21, 15, 15, 15, 15, ...   \n",
              "5  [7, 7, 7, 7, 7, 7, 7, 7, 7, 7, 7, 7, 7, 7, 7, ...   \n",
              "6  [2, 5, 2, 3, 3, 3, 2, 5, 2, 2, 2, 2, 2, 2, 4, ...   \n",
              "7  [6, 1, 1, 1, 1, 1, 1, 1, 1, 1, 1, 1, 1, 45, 45...   \n",
              "8  [6, 6, 6, 6, 6, 6, 6, 6, 6, 6, 6, 6, 6, 6, 6, ...   \n",
              "9  [1, 1, 1, 1, 1, 1, 1, 1, 1, 1, 1, 1, 1, 1, 1, ...   \n",
              "\n",
              "                               et_dayofweek_sin-list  \\\n",
              "0  [0.9749277124471076, 0.9749277124471076, 0.974...   \n",
              "1  [0.9749277124471076, 0.9749277124471076, 0.974...   \n",
              "2  [8.975979006501142e-07, 8.975979006501142e-07,...   \n",
              "3  [-0.43388454782514785, -0.43388454782514785, -...   \n",
              "4  [0.43388293040961884, 0.43388293040961884, 0.4...   \n",
              "5  [0.43388293040961884, 0.43388293040961884, 0.4...   \n",
              "6  [-0.7818309228245777, -0.7818309228245777, -0....   \n",
              "7  [-0.7818309228245777, -0.7818309228245777, -0....   \n",
              "8  [-0.43388454782514785, -0.43388454782514785, -...   \n",
              "9  [-0.7818309228245777, -0.7818309228245777, -0....   \n",
              "\n",
              "                               et_dayofweek_cos-list  \\\n",
              "0  [-0.2225218090494724, -0.2225218090494724, -0....   \n",
              "1  [-0.2225218090494724, -0.2225218090494724, -0....   \n",
              "2  [0.9999999999995972, 0.9999999999995972, 0.999...   \n",
              "3  [-0.9009684784489228, -0.9009684784489228, -0....   \n",
              "4  [-0.9009692573551896, -0.9009692573551896, -0....   \n",
              "5  [-0.9009692573551896, -0.9009692573551896, -0....   \n",
              "6  [0.6234905036287797, 0.6234905036287797, 0.623...   \n",
              "7  [0.6234905036287797, 0.6234905036287797, 0.623...   \n",
              "8  [-0.9009684784489228, -0.9009684784489228, -0....   \n",
              "9  [0.6234905036287797, 0.6234905036287797, 0.623...   \n",
              "\n",
              "                                 price_log_norm-list  \\\n",
              "0  [0.08458537, -0.24322492, 0.08458537, -0.14456...   \n",
              "1  [-0.5968732, -0.5826312, -0.57691675, -0.94772...   \n",
              "2  [-0.93344843, -0.6120571, -0.641767, -1.155792...   \n",
              "3  [0.9421038, 0.9506214, 0.9421038, 1.1711547, 0...   \n",
              "4  [0.7888444, 0.4279169, 0.2778753, 0.029547354,...   \n",
              "5  [-0.17139448, -0.22419876, -0.17139448, -0.090...   \n",
              "6  [1.2530195, 0.052988723, 1.5090804, 0.6058624,...   \n",
              "7  [1.6082963, -0.12502013, 0.0052444604, 0.62931...   \n",
              "8  [0.8609703, 0.9505884, 0.72817767, 0.9416715, ...   \n",
              "9  [-0.7193222, -1.5103035, -1.6672652, -0.937035...   \n",
              "\n",
              "                 relative_price_to_avg_categ_id-list  \\\n",
              "0  [-0.643282327368288, -0.7632182638622205, -0.6...   \n",
              "1  [0.044438490038896716, 0.06332365917531949, 0....   \n",
              "2  [-0.7351362412156563, -0.6025327133923205, -0....   \n",
              "3  [-0.34403762182916375, -0.3370530946772217, -0...   \n",
              "4  [0.2947556335625865, -0.05620540373901745, -0....   \n",
              "5  [0.18221077494253135, 0.1066088315548633, 0.18...   \n",
              "6  [0.4381808097286804, 0.6185932022862595, 0.976...   \n",
              "7  [1.4248649151718304, -0.5245121508853557, -0.4...   \n",
              "8  [-0.042055452414229116, 0.07088232100611737, -...   \n",
              "9  [0.13770067180673623, -0.5853870095808679, -0....   \n",
              "\n",
              "                  product_recency_days_log_norm-list  day_index  \n",
              "0  [0.74019545, 0.7369576, 0.74029607, 0.738543, ...         22  \n",
              "1  [-3.1486514, -3.1486514, -3.148419, -3.1486514...          1  \n",
              "2  [1.015743, 1.0161717, 1.0157927, 1.0131326, 1....         27  \n",
              "3  [0.8557798, 0.85758567, 0.85609555, 0.8631584,...         24  \n",
              "4  [-2.125648, -2.183616, -2.233572, -2.182449, -...          2  \n",
              "5  [-0.32494533, -0.3529406, -0.32888177, -0.3281...          9  \n",
              "6  [0.9911432, 0.99096197, 0.9912046, 0.9910791, ...         26  \n",
              "7  [0.027798139, 0.026367055, 0.02467384, 0.03706...         12  \n",
              "8  [1.1877617, 1.1889449, 1.1831262, 1.1877685, 1...         31  \n",
              "9  [0.0418801, 0.037589844, 0.045151792, 0.026399...         12  "
            ],
            "text/html": [
              "<div>\n",
              "<style scoped>\n",
              "    .dataframe tbody tr th:only-of-type {\n",
              "        vertical-align: middle;\n",
              "    }\n",
              "\n",
              "    .dataframe tbody tr th {\n",
              "        vertical-align: top;\n",
              "    }\n",
              "\n",
              "    .dataframe thead th {\n",
              "        text-align: right;\n",
              "    }\n",
              "</style>\n",
              "<table border=\"1\" class=\"dataframe\">\n",
              "  <thead>\n",
              "    <tr style=\"text-align: right;\">\n",
              "      <th></th>\n",
              "      <th>product_id-count</th>\n",
              "      <th>user_session</th>\n",
              "      <th>product_id-list</th>\n",
              "      <th>category_id-list</th>\n",
              "      <th>brand-list</th>\n",
              "      <th>category_code-list</th>\n",
              "      <th>et_dayofweek_sin-list</th>\n",
              "      <th>et_dayofweek_cos-list</th>\n",
              "      <th>price_log_norm-list</th>\n",
              "      <th>relative_price_to_avg_categ_id-list</th>\n",
              "      <th>product_recency_days_log_norm-list</th>\n",
              "      <th>day_index</th>\n",
              "    </tr>\n",
              "  </thead>\n",
              "  <tbody>\n",
              "    <tr>\n",
              "      <th>0</th>\n",
              "      <td>1008</td>\n",
              "      <td>2</td>\n",
              "      <td>[621, 2934, 621, 2763, 11453, 35, 266, 762, 11...</td>\n",
              "      <td>[13, 13, 13, 6, 6, 6, 6, 6, 6, 6, 6, 6, 6, 6, ...</td>\n",
              "      <td>[1, 43, 1, 15, 15, 15, 15, 15, 15, 15, 15, 15,...</td>\n",
              "      <td>[8, 8, 8, 6, 6, 6, 6, 6, 6, 6, 6, 6, 6, 6, 6, ...</td>\n",
              "      <td>[0.9749277124471076, 0.9749277124471076, 0.974...</td>\n",
              "      <td>[-0.2225218090494724, -0.2225218090494724, -0....</td>\n",
              "      <td>[0.08458537, -0.24322492, 0.08458537, -0.14456...</td>\n",
              "      <td>[-0.643282327368288, -0.7632182638622205, -0.6...</td>\n",
              "      <td>[0.74019545, 0.7369576, 0.74029607, 0.738543, ...</td>\n",
              "      <td>22</td>\n",
              "    </tr>\n",
              "    <tr>\n",
              "      <th>1</th>\n",
              "      <td>779</td>\n",
              "      <td>3</td>\n",
              "      <td>[26848, 111412, 31916, 10389, 28422, 671, 898,...</td>\n",
              "      <td>[3, 3, 3, 3, 3, 20, 20, 20, 20, 20, 20, 20, 20...</td>\n",
              "      <td>[190, 111, 275, 290, 536, 31, 10, 31, 416, 185...</td>\n",
              "      <td>[1, 1, 1, 1, 1, 16, 16, 16, 16, 16, 16, 16, 16...</td>\n",
              "      <td>[0.9749277124471076, 0.9749277124471076, 0.974...</td>\n",
              "      <td>[-0.2225218090494724, -0.2225218090494724, -0....</td>\n",
              "      <td>[-0.5968732, -0.5826312, -0.57691675, -0.94772...</td>\n",
              "      <td>[0.044438490038896716, 0.06332365917531949, 0....</td>\n",
              "      <td>[-3.1486514, -3.1486514, -3.148419, -3.1486514...</td>\n",
              "      <td>1</td>\n",
              "    </tr>\n",
              "    <tr>\n",
              "      <th>2</th>\n",
              "      <td>365</td>\n",
              "      <td>4</td>\n",
              "      <td>[7317, 8858, 551, 2184, 410, 14690, 644, 1745,...</td>\n",
              "      <td>[11, 11, 11, 203, 32, 83, 57, 35, 414, 121, 11...</td>\n",
              "      <td>[18, 25, 2, 1, 1, 28, 1, 1, 463, 1, 18, 18, 1,...</td>\n",
              "      <td>[10, 10, 10, 1, 21, 39, 1, 1, 1, 1, 10, 10, 1,...</td>\n",
              "      <td>[8.975979006501142e-07, 8.975979006501142e-07,...</td>\n",
              "      <td>[0.9999999999995972, 0.9999999999995972, 0.999...</td>\n",
              "      <td>[-0.93344843, -0.6120571, -0.641767, -1.155792...</td>\n",
              "      <td>[-0.7351362412156563, -0.6025327133923205, -0....</td>\n",
              "      <td>[1.015743, 1.0161717, 1.0157927, 1.0131326, 1....</td>\n",
              "      <td>27</td>\n",
              "    </tr>\n",
              "    <tr>\n",
              "      <th>3</th>\n",
              "      <td>353</td>\n",
              "      <td>5</td>\n",
              "      <td>[1491, 2015, 1491, 307, 100, 317, 1866, 544, 3...</td>\n",
              "      <td>[4, 4, 4, 4, 4, 4, 4, 4, 4, 4, 4, 4, 4, 4, 4, ...</td>\n",
              "      <td>[24, 11, 24, 11, 11, 24, 16, 16, 24, 1, 24, 24...</td>\n",
              "      <td>[4, 4, 4, 4, 4, 4, 4, 4, 4, 4, 4, 4, 4, 4, 4, ...</td>\n",
              "      <td>[-0.43388454782514785, -0.43388454782514785, -...</td>\n",
              "      <td>[-0.9009684784489228, -0.9009684784489228, -0....</td>\n",
              "      <td>[0.9421038, 0.9506214, 0.9421038, 1.1711547, 0...</td>\n",
              "      <td>[-0.34403762182916375, -0.3370530946772217, -0...</td>\n",
              "      <td>[0.8557798, 0.85758567, 0.85609555, 0.8631584,...</td>\n",
              "      <td>24</td>\n",
              "    </tr>\n",
              "    <tr>\n",
              "      <th>4</th>\n",
              "      <td>332</td>\n",
              "      <td>6</td>\n",
              "      <td>[1190, 3744, 6861, 625, 1190, 205, 195, 208, 3...</td>\n",
              "      <td>[316, 26, 26, 23, 316, 35, 26, 32, 26, 26, 26,...</td>\n",
              "      <td>[1, 1, 1, 1, 1, 42, 1, 1, 29, 1, 1, 29, 42, 1,...</td>\n",
              "      <td>[1, 15, 15, 14, 1, 1, 15, 21, 15, 15, 15, 15, ...</td>\n",
              "      <td>[0.43388293040961884, 0.43388293040961884, 0.4...</td>\n",
              "      <td>[-0.9009692573551896, -0.9009692573551896, -0....</td>\n",
              "      <td>[0.7888444, 0.4279169, 0.2778753, 0.029547354,...</td>\n",
              "      <td>[0.2947556335625865, -0.05620540373901745, -0....</td>\n",
              "      <td>[-2.125648, -2.183616, -2.233572, -2.182449, -...</td>\n",
              "      <td>2</td>\n",
              "    </tr>\n",
              "    <tr>\n",
              "      <th>5</th>\n",
              "      <td>329</td>\n",
              "      <td>7</td>\n",
              "      <td>[2224, 5024, 4235, 1440, 7520, 6876, 8202, 588...</td>\n",
              "      <td>[22, 22, 22, 22, 22, 22, 22, 22, 22, 22, 22, 2...</td>\n",
              "      <td>[13, 37, 13, 13, 1, 1, 37, 37, 37, 37, 1, 470,...</td>\n",
              "      <td>[7, 7, 7, 7, 7, 7, 7, 7, 7, 7, 7, 7, 7, 7, 7, ...</td>\n",
              "      <td>[0.43388293040961884, 0.43388293040961884, 0.4...</td>\n",
              "      <td>[-0.9009692573551896, -0.9009692573551896, -0....</td>\n",
              "      <td>[-0.17139448, -0.22419876, -0.17139448, -0.090...</td>\n",
              "      <td>[0.18221077494253135, 0.1066088315548633, 0.18...</td>\n",
              "      <td>[-0.32494533, -0.3529406, -0.32888177, -0.3281...</td>\n",
              "      <td>9</td>\n",
              "    </tr>\n",
              "    <tr>\n",
              "      <th>6</th>\n",
              "      <td>315</td>\n",
              "      <td>8</td>\n",
              "      <td>[28, 10, 4, 60, 166, 172, 388, 146, 189, 668, ...</td>\n",
              "      <td>[2, 5, 2, 10, 10, 10, 2, 5, 2, 2, 2, 2, 2, 2, ...</td>\n",
              "      <td>[3, 3, 3, 3, 3, 3, 3, 3, 3, 3, 3, 3, 3, 3, 3, ...</td>\n",
              "      <td>[2, 5, 2, 3, 3, 3, 2, 5, 2, 2, 2, 2, 2, 2, 4, ...</td>\n",
              "      <td>[-0.7818309228245777, -0.7818309228245777, -0....</td>\n",
              "      <td>[0.6234905036287797, 0.6234905036287797, 0.623...</td>\n",
              "      <td>[1.2530195, 0.052988723, 1.5090804, 0.6058624,...</td>\n",
              "      <td>[0.4381808097286804, 0.6185932022862595, 0.976...</td>\n",
              "      <td>[0.9911432, 0.99096197, 0.9912046, 0.9910791, ...</td>\n",
              "      <td>26</td>\n",
              "    </tr>\n",
              "    <tr>\n",
              "      <th>7</th>\n",
              "      <td>300</td>\n",
              "      <td>9</td>\n",
              "      <td>[526, 442, 1019, 1665, 2863, 4076, 9708, 4250,...</td>\n",
              "      <td>[6, 80, 80, 80, 80, 80, 80, 80, 80, 80, 80, 80...</td>\n",
              "      <td>[2, 8, 8, 8, 10, 54, 8, 54, 10, 10, 10, 54, 54...</td>\n",
              "      <td>[6, 1, 1, 1, 1, 1, 1, 1, 1, 1, 1, 1, 1, 45, 45...</td>\n",
              "      <td>[-0.7818309228245777, -0.7818309228245777, -0....</td>\n",
              "      <td>[0.6234905036287797, 0.6234905036287797, 0.623...</td>\n",
              "      <td>[1.6082963, -0.12502013, 0.0052444604, 0.62931...</td>\n",
              "      <td>[1.4248649151718304, -0.5245121508853557, -0.4...</td>\n",
              "      <td>[0.027798139, 0.026367055, 0.02467384, 0.03706...</td>\n",
              "      <td>12</td>\n",
              "    </tr>\n",
              "    <tr>\n",
              "      <th>8</th>\n",
              "      <td>294</td>\n",
              "      <td>10</td>\n",
              "      <td>[171, 61, 4394, 857, 2546, 321, 33574, 2546, 8...</td>\n",
              "      <td>[6, 6, 6, 6, 6, 6, 6, 6, 6, 6, 6, 6, 6, 6, 6, ...</td>\n",
              "      <td>[2, 2, 221, 2, 36, 8, 1, 36, 2, 2, 10, 2, 8, 2...</td>\n",
              "      <td>[6, 6, 6, 6, 6, 6, 6, 6, 6, 6, 6, 6, 6, 6, 6, ...</td>\n",
              "      <td>[-0.43388454782514785, -0.43388454782514785, -...</td>\n",
              "      <td>[-0.9009684784489228, -0.9009684784489228, -0....</td>\n",
              "      <td>[0.8609703, 0.9505884, 0.72817767, 0.9416715, ...</td>\n",
              "      <td>[-0.042055452414229116, 0.07088232100611737, -...</td>\n",
              "      <td>[1.1877617, 1.1889449, 1.1831262, 1.1877685, 1...</td>\n",
              "      <td>31</td>\n",
              "    </tr>\n",
              "    <tr>\n",
              "      <th>9</th>\n",
              "      <td>286</td>\n",
              "      <td>11</td>\n",
              "      <td>[838, 4742, 7754, 10876, 14169, 17649, 11077, ...</td>\n",
              "      <td>[18, 18, 18, 18, 18, 18, 18, 18, 18, 18, 18, 1...</td>\n",
              "      <td>[161, 32, 1124, 155, 161, 58, 22, 75, 948, 22,...</td>\n",
              "      <td>[1, 1, 1, 1, 1, 1, 1, 1, 1, 1, 1, 1, 1, 1, 1, ...</td>\n",
              "      <td>[-0.7818309228245777, -0.7818309228245777, -0....</td>\n",
              "      <td>[0.6234905036287797, 0.6234905036287797, 0.623...</td>\n",
              "      <td>[-0.7193222, -1.5103035, -1.6672652, -0.937035...</td>\n",
              "      <td>[0.13770067180673623, -0.5853870095808679, -0....</td>\n",
              "      <td>[0.0418801, 0.037589844, 0.045151792, 0.026399...</td>\n",
              "      <td>12</td>\n",
              "    </tr>\n",
              "  </tbody>\n",
              "</table>\n",
              "</div>"
            ]
          },
          "metadata": {},
          "execution_count": 91
        }
      ]
    },
    {
      "cell_type": "code",
      "source": [
        "workflow.output_schema"
      ],
      "metadata": {
        "colab": {
          "base_uri": "https://localhost:8080/",
          "height": 628
        },
        "id": "fNi4XsQpbjVl",
        "outputId": "5e599d41-8d24-439b-c5c4-92be744d2f93"
      },
      "execution_count": null,
      "outputs": [
        {
          "output_type": "execute_result",
          "data": {
            "text/plain": [
              "[{'name': 'product_id-count', 'tags': {<Tags.CATEGORICAL: 'categorical'>}, 'properties': {'num_buckets': None, 'freq_threshold': 0, 'max_size': 0, 'start_index': 1, 'cat_path': './/categories/unique.product_id.parquet', 'domain': {'min': 0, 'max': 166795, 'name': 'product_id'}, 'embedding_sizes': {'cardinality': 166796, 'dimension': 512}}, 'dtype': dtype('int32'), 'is_list': False, 'is_ragged': False}, {'name': 'user_session', 'tags': {<Tags.CATEGORICAL: 'categorical'>}, 'properties': {'num_buckets': None, 'freq_threshold': 0, 'max_size': 0, 'start_index': 1, 'cat_path': './/categories/unique.user_session.parquet', 'domain': {'min': 0, 'max': 9244422, 'name': 'user_session'}, 'embedding_sizes': {'cardinality': 9244423, 'dimension': 512}}, 'dtype': dtype('int64'), 'is_list': False, 'is_ragged': False}, {'name': 'product_id-list', 'tags': {<Tags.LIST: 'list'>, <Tags.ITEM_ID: 'item_id'>, <Tags.ID: 'id'>, <Tags.CATEGORICAL: 'categorical'>, <Tags.ITEM: 'item'>}, 'properties': {'num_buckets': None, 'freq_threshold': 0, 'max_size': 0, 'start_index': 1, 'cat_path': './/categories/unique.product_id.parquet', 'domain': {'min': 0, 'max': 166795, 'name': 'product_id'}, 'embedding_sizes': {'cardinality': 166796, 'dimension': 512}}, 'dtype': dtype('int64'), 'is_list': True, 'is_ragged': True}, {'name': 'category_id-list', 'tags': {<Tags.CATEGORICAL: 'categorical'>, <Tags.LIST: 'list'>}, 'properties': {'num_buckets': None, 'freq_threshold': 0, 'max_size': 0, 'start_index': 1, 'cat_path': './/categories/unique.category_id.parquet', 'domain': {'min': 0, 'max': 625, 'name': 'category_id'}, 'embedding_sizes': {'cardinality': 626, 'dimension': 59}}, 'dtype': dtype('int64'), 'is_list': True, 'is_ragged': True}, {'name': 'brand-list', 'tags': {<Tags.CATEGORICAL: 'categorical'>, <Tags.LIST: 'list'>}, 'properties': {'num_buckets': None, 'freq_threshold': 0, 'max_size': 0, 'start_index': 1, 'cat_path': './/categories/unique.brand.parquet', 'domain': {'min': 0, 'max': 3445, 'name': 'brand'}, 'embedding_sizes': {'cardinality': 3446, 'dimension': 153}}, 'dtype': dtype('int64'), 'is_list': True, 'is_ragged': True}, {'name': 'category_code-list', 'tags': {<Tags.CATEGORICAL: 'categorical'>, <Tags.LIST: 'list'>}, 'properties': {'num_buckets': None, 'freq_threshold': 0, 'max_size': 0, 'start_index': 1, 'cat_path': './/categories/unique.category_code.parquet', 'domain': {'min': 0, 'max': 127, 'name': 'category_code'}, 'embedding_sizes': {'cardinality': 128, 'dimension': 24}}, 'dtype': dtype('int64'), 'is_list': True, 'is_ragged': True}, {'name': 'et_dayofweek_sin-list', 'tags': {<Tags.LIST: 'list'>, <Tags.CONTINUOUS: 'continuous'>}, 'properties': {}, 'dtype': dtype('float64'), 'is_list': True, 'is_ragged': True}, {'name': 'et_dayofweek_cos-list', 'tags': {<Tags.LIST: 'list'>, <Tags.CONTINUOUS: 'continuous'>}, 'properties': {}, 'dtype': dtype('float64'), 'is_list': True, 'is_ragged': True}, {'name': 'price_log_norm-list', 'tags': {<Tags.LIST: 'list'>, <Tags.CONTINUOUS: 'continuous'>}, 'properties': {}, 'dtype': dtype('float32'), 'is_list': True, 'is_ragged': True}, {'name': 'relative_price_to_avg_categ_id-list', 'tags': {<Tags.LIST: 'list'>, <Tags.CONTINUOUS: 'continuous'>}, 'properties': {}, 'dtype': dtype('float64'), 'is_list': True, 'is_ragged': True}, {'name': 'product_recency_days_log_norm-list', 'tags': {<Tags.LIST: 'list'>, <Tags.CONTINUOUS: 'continuous'>}, 'properties': {}, 'dtype': dtype('float32'), 'is_list': True, 'is_ragged': True}, {'name': 'day_index', 'tags': set(), 'properties': {}, 'dtype': dtype('int64'), 'is_list': False, 'is_ragged': False}]"
            ],
            "text/html": [
              "<div>\n",
              "<style scoped>\n",
              "    .dataframe tbody tr th:only-of-type {\n",
              "        vertical-align: middle;\n",
              "    }\n",
              "\n",
              "    .dataframe tbody tr th {\n",
              "        vertical-align: top;\n",
              "    }\n",
              "\n",
              "    .dataframe thead th {\n",
              "        text-align: right;\n",
              "    }\n",
              "</style>\n",
              "<table border=\"1\" class=\"dataframe\">\n",
              "  <thead>\n",
              "    <tr style=\"text-align: right;\">\n",
              "      <th></th>\n",
              "      <th>name</th>\n",
              "      <th>tags</th>\n",
              "      <th>dtype</th>\n",
              "      <th>is_list</th>\n",
              "      <th>is_ragged</th>\n",
              "      <th>properties.num_buckets</th>\n",
              "      <th>properties.freq_threshold</th>\n",
              "      <th>properties.max_size</th>\n",
              "      <th>properties.start_index</th>\n",
              "      <th>properties.cat_path</th>\n",
              "      <th>properties.domain.min</th>\n",
              "      <th>properties.domain.max</th>\n",
              "      <th>properties.domain.name</th>\n",
              "      <th>properties.embedding_sizes.cardinality</th>\n",
              "      <th>properties.embedding_sizes.dimension</th>\n",
              "    </tr>\n",
              "  </thead>\n",
              "  <tbody>\n",
              "    <tr>\n",
              "      <th>0</th>\n",
              "      <td>product_id-count</td>\n",
              "      <td>(Tags.CATEGORICAL)</td>\n",
              "      <td>int32</td>\n",
              "      <td>False</td>\n",
              "      <td>False</td>\n",
              "      <td>NaN</td>\n",
              "      <td>0.0</td>\n",
              "      <td>0.0</td>\n",
              "      <td>1.0</td>\n",
              "      <td>.//categories/unique.product_id.parquet</td>\n",
              "      <td>0.0</td>\n",
              "      <td>166795.0</td>\n",
              "      <td>product_id</td>\n",
              "      <td>166796.0</td>\n",
              "      <td>512.0</td>\n",
              "    </tr>\n",
              "    <tr>\n",
              "      <th>1</th>\n",
              "      <td>user_session</td>\n",
              "      <td>(Tags.CATEGORICAL)</td>\n",
              "      <td>int64</td>\n",
              "      <td>False</td>\n",
              "      <td>False</td>\n",
              "      <td>NaN</td>\n",
              "      <td>0.0</td>\n",
              "      <td>0.0</td>\n",
              "      <td>1.0</td>\n",
              "      <td>.//categories/unique.user_session.parquet</td>\n",
              "      <td>0.0</td>\n",
              "      <td>9244422.0</td>\n",
              "      <td>user_session</td>\n",
              "      <td>9244423.0</td>\n",
              "      <td>512.0</td>\n",
              "    </tr>\n",
              "    <tr>\n",
              "      <th>2</th>\n",
              "      <td>product_id-list</td>\n",
              "      <td>(Tags.LIST, Tags.ITEM_ID, Tags.ID, Tags.CATEGO...</td>\n",
              "      <td>int64</td>\n",
              "      <td>True</td>\n",
              "      <td>True</td>\n",
              "      <td>NaN</td>\n",
              "      <td>0.0</td>\n",
              "      <td>0.0</td>\n",
              "      <td>1.0</td>\n",
              "      <td>.//categories/unique.product_id.parquet</td>\n",
              "      <td>0.0</td>\n",
              "      <td>166795.0</td>\n",
              "      <td>product_id</td>\n",
              "      <td>166796.0</td>\n",
              "      <td>512.0</td>\n",
              "    </tr>\n",
              "    <tr>\n",
              "      <th>3</th>\n",
              "      <td>category_id-list</td>\n",
              "      <td>(Tags.CATEGORICAL, Tags.LIST)</td>\n",
              "      <td>int64</td>\n",
              "      <td>True</td>\n",
              "      <td>True</td>\n",
              "      <td>NaN</td>\n",
              "      <td>0.0</td>\n",
              "      <td>0.0</td>\n",
              "      <td>1.0</td>\n",
              "      <td>.//categories/unique.category_id.parquet</td>\n",
              "      <td>0.0</td>\n",
              "      <td>625.0</td>\n",
              "      <td>category_id</td>\n",
              "      <td>626.0</td>\n",
              "      <td>59.0</td>\n",
              "    </tr>\n",
              "    <tr>\n",
              "      <th>4</th>\n",
              "      <td>brand-list</td>\n",
              "      <td>(Tags.CATEGORICAL, Tags.LIST)</td>\n",
              "      <td>int64</td>\n",
              "      <td>True</td>\n",
              "      <td>True</td>\n",
              "      <td>NaN</td>\n",
              "      <td>0.0</td>\n",
              "      <td>0.0</td>\n",
              "      <td>1.0</td>\n",
              "      <td>.//categories/unique.brand.parquet</td>\n",
              "      <td>0.0</td>\n",
              "      <td>3445.0</td>\n",
              "      <td>brand</td>\n",
              "      <td>3446.0</td>\n",
              "      <td>153.0</td>\n",
              "    </tr>\n",
              "    <tr>\n",
              "      <th>5</th>\n",
              "      <td>category_code-list</td>\n",
              "      <td>(Tags.CATEGORICAL, Tags.LIST)</td>\n",
              "      <td>int64</td>\n",
              "      <td>True</td>\n",
              "      <td>True</td>\n",
              "      <td>NaN</td>\n",
              "      <td>0.0</td>\n",
              "      <td>0.0</td>\n",
              "      <td>1.0</td>\n",
              "      <td>.//categories/unique.category_code.parquet</td>\n",
              "      <td>0.0</td>\n",
              "      <td>127.0</td>\n",
              "      <td>category_code</td>\n",
              "      <td>128.0</td>\n",
              "      <td>24.0</td>\n",
              "    </tr>\n",
              "    <tr>\n",
              "      <th>6</th>\n",
              "      <td>et_dayofweek_sin-list</td>\n",
              "      <td>(Tags.LIST, Tags.CONTINUOUS)</td>\n",
              "      <td>float64</td>\n",
              "      <td>True</td>\n",
              "      <td>True</td>\n",
              "      <td>NaN</td>\n",
              "      <td>NaN</td>\n",
              "      <td>NaN</td>\n",
              "      <td>NaN</td>\n",
              "      <td>NaN</td>\n",
              "      <td>NaN</td>\n",
              "      <td>NaN</td>\n",
              "      <td>NaN</td>\n",
              "      <td>NaN</td>\n",
              "      <td>NaN</td>\n",
              "    </tr>\n",
              "    <tr>\n",
              "      <th>7</th>\n",
              "      <td>et_dayofweek_cos-list</td>\n",
              "      <td>(Tags.LIST, Tags.CONTINUOUS)</td>\n",
              "      <td>float64</td>\n",
              "      <td>True</td>\n",
              "      <td>True</td>\n",
              "      <td>NaN</td>\n",
              "      <td>NaN</td>\n",
              "      <td>NaN</td>\n",
              "      <td>NaN</td>\n",
              "      <td>NaN</td>\n",
              "      <td>NaN</td>\n",
              "      <td>NaN</td>\n",
              "      <td>NaN</td>\n",
              "      <td>NaN</td>\n",
              "      <td>NaN</td>\n",
              "    </tr>\n",
              "    <tr>\n",
              "      <th>8</th>\n",
              "      <td>price_log_norm-list</td>\n",
              "      <td>(Tags.LIST, Tags.CONTINUOUS)</td>\n",
              "      <td>float32</td>\n",
              "      <td>True</td>\n",
              "      <td>True</td>\n",
              "      <td>NaN</td>\n",
              "      <td>NaN</td>\n",
              "      <td>NaN</td>\n",
              "      <td>NaN</td>\n",
              "      <td>NaN</td>\n",
              "      <td>NaN</td>\n",
              "      <td>NaN</td>\n",
              "      <td>NaN</td>\n",
              "      <td>NaN</td>\n",
              "      <td>NaN</td>\n",
              "    </tr>\n",
              "    <tr>\n",
              "      <th>9</th>\n",
              "      <td>relative_price_to_avg_categ_id-list</td>\n",
              "      <td>(Tags.LIST, Tags.CONTINUOUS)</td>\n",
              "      <td>float64</td>\n",
              "      <td>True</td>\n",
              "      <td>True</td>\n",
              "      <td>NaN</td>\n",
              "      <td>NaN</td>\n",
              "      <td>NaN</td>\n",
              "      <td>NaN</td>\n",
              "      <td>NaN</td>\n",
              "      <td>NaN</td>\n",
              "      <td>NaN</td>\n",
              "      <td>NaN</td>\n",
              "      <td>NaN</td>\n",
              "      <td>NaN</td>\n",
              "    </tr>\n",
              "    <tr>\n",
              "      <th>10</th>\n",
              "      <td>product_recency_days_log_norm-list</td>\n",
              "      <td>(Tags.LIST, Tags.CONTINUOUS)</td>\n",
              "      <td>float32</td>\n",
              "      <td>True</td>\n",
              "      <td>True</td>\n",
              "      <td>NaN</td>\n",
              "      <td>NaN</td>\n",
              "      <td>NaN</td>\n",
              "      <td>NaN</td>\n",
              "      <td>NaN</td>\n",
              "      <td>NaN</td>\n",
              "      <td>NaN</td>\n",
              "      <td>NaN</td>\n",
              "      <td>NaN</td>\n",
              "      <td>NaN</td>\n",
              "    </tr>\n",
              "    <tr>\n",
              "      <th>11</th>\n",
              "      <td>day_index</td>\n",
              "      <td>()</td>\n",
              "      <td>int64</td>\n",
              "      <td>False</td>\n",
              "      <td>False</td>\n",
              "      <td>NaN</td>\n",
              "      <td>NaN</td>\n",
              "      <td>NaN</td>\n",
              "      <td>NaN</td>\n",
              "      <td>NaN</td>\n",
              "      <td>NaN</td>\n",
              "      <td>NaN</td>\n",
              "      <td>NaN</td>\n",
              "      <td>NaN</td>\n",
              "      <td>NaN</td>\n",
              "    </tr>\n",
              "  </tbody>\n",
              "</table>\n",
              "</div>"
            ]
          },
          "metadata": {},
          "execution_count": 20
        }
      ]
    },
    {
      "cell_type": "code",
      "source": [
        "# define output_folder to store the partitioned parquet files\n",
        "OUTPUT_FOLDER = os.environ.get(\"OUTPUT_FOLDER\", \"/content/drive/MyDrive/dataset_rees46/\" + \"sessions_by_day\")\n",
        "#os.mkdir(OUTPUT_FOLDER) if does not exist\n"
      ],
      "metadata": {
        "id": "fg8wmjyLb20S"
      },
      "execution_count": null,
      "outputs": []
    },
    {
      "cell_type": "code",
      "source": [
        "from transformers4rec.data.preprocessing import save_time_based_splits\n",
        "\n",
        "save_time_based_splits(data=nvt.Dataset(sessions_gdf),\n",
        "                       output_dir= OUTPUT_FOLDER,\n",
        "                       partition_col='day_index',\n",
        "                       timestamp_col='user_session', \n",
        "                      )"
      ],
      "metadata": {
        "colab": {
          "base_uri": "https://localhost:8080/"
        },
        "id": "7X-LPrqncau3",
        "outputId": "074e3980-5a60-46ae-b027-0389cc786700"
      },
      "execution_count": null,
      "outputs": [
        {
          "output_type": "stream",
          "name": "stderr",
          "text": [
            "Creating time-based splits: 100%|██████████| 31/31 [00:18<00:00,  1.66it/s]\n"
          ]
        }
      ]
    },
    {
      "cell_type": "code",
      "source": [
        "workflow.fit_transform(dataset).to_parquet(os.path.join(\"/content/drive/MyDrive/dataset_rees46/\", \"processed_nvt\"))"
      ],
      "metadata": {
        "id": "DGxkcJdacdAa",
        "colab": {
          "base_uri": "https://localhost:8080/"
        },
        "outputId": "d3a30eb8-0cf8-4735-86d5-291e9474ded1"
      },
      "execution_count": null,
      "outputs": [
        {
          "output_type": "stream",
          "name": "stderr",
          "text": [
            "/usr/local/lib/python3.8/dist-packages/merlin/schema/tags.py:148: UserWarning: Compound tags like Tags.ITEM_ID have been deprecated and will be removed in a future version. Please use the atomic versions of these tags, like [<Tags.ITEM: 'item'>, <Tags.ID: 'id'>].\n",
            "  warnings.warn(\n",
            "/usr/local/lib/python3.8/dist-packages/merlin/schema/tags.py:148: UserWarning: Compound tags like Tags.ITEM_ID have been deprecated and will be removed in a future version. Please use the atomic versions of these tags, like [<Tags.ITEM: 'item'>, <Tags.ID: 'id'>].\n",
            "  warnings.warn(\n",
            "/usr/local/lib/python3.8/dist-packages/merlin/schema/tags.py:148: UserWarning: Compound tags like Tags.ITEM_ID have been deprecated and will be removed in a future version. Please use the atomic versions of these tags, like [<Tags.ITEM: 'item'>, <Tags.ID: 'id'>].\n",
            "  warnings.warn(\n",
            "/usr/local/lib/python3.8/dist-packages/merlin/schema/tags.py:148: UserWarning: Compound tags like Tags.ITEM_ID have been deprecated and will be removed in a future version. Please use the atomic versions of these tags, like [<Tags.ITEM: 'item'>, <Tags.ID: 'id'>].\n",
            "  warnings.warn(\n"
          ]
        }
      ]
    },
    {
      "cell_type": "code",
      "source": [
        "workflow_path = os.path.join(\"/content/drive/MyDrive/dataset_rees46/\", 'workflow_etl')\n",
        "workflow.save(workflow_path)"
      ],
      "metadata": {
        "id": "QxOU7VDGdpB5"
      },
      "execution_count": null,
      "outputs": []
    }
  ]
}